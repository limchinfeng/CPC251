{
 "cells": [
  {
   "cell_type": "markdown",
   "metadata": {},
   "source": [
    "#### Group Information\n",
    "\n",
    "Group No: Climate_3\n",
    "\n",
    "- Member 1: GWEE PER MING\n",
    "- Member 2: LIM CHIN FENG\n",
    "- Member 3: OOI YUE SHENG\n",
    "- Member 4: OOI YONG QIN\n"
   ]
  },
  {
   "cell_type": "markdown",
   "metadata": {},
   "source": [
    "#### Import libraries"
   ]
  },
  {
   "cell_type": "code",
   "execution_count": 4,
   "metadata": {},
   "outputs": [],
   "source": [
    "# %pip install mlxtend --upgrade --user"
   ]
  },
  {
   "cell_type": "code",
   "execution_count": 5,
   "metadata": {},
   "outputs": [],
   "source": [
    "%config Completer.use_jedi=False\n",
    "\n",
    "# Import the libraries and modules that will be used in this project\n",
    "import pandas as pd\n",
    "import numpy as np\n",
    "import warnings\n",
    "warnings.filterwarnings('ignore')\n",
    "\n",
    "from sklearn.model_selection import train_test_split\n",
    "\n",
    "from sklearn.preprocessing import MinMaxScaler, StandardScaler\n",
    "\n",
    "from mlxtend.feature_selection import SequentialFeatureSelector as sfs\n",
    "from sklearn.ensemble import RandomForestClassifier\n",
    "from sklearn.tree import DecisionTreeClassifier\n",
    "from sklearn.svm import SVC\n",
    "\n",
    "from sklearn.metrics import roc_auc_score\n",
    "from sklearn.metrics import accuracy_score,confusion_matrix,classification_report\n",
    "from sklearn.metrics import confusion_matrix, ConfusionMatrixDisplay\n",
    "from matplotlib import pyplot as plt\n",
    "from sklearn.tree import plot_tree,export_text"
   ]
  },
  {
   "cell_type": "markdown",
   "metadata": {},
   "source": [
    "#### Load the dataset"
   ]
  },
  {
   "cell_type": "code",
   "execution_count": 6,
   "metadata": {},
   "outputs": [
    {
     "name": "stdout",
     "output_type": "stream",
     "text": [
      "     Study  Run  vconst_corr  vconst_2  vconst_3  vconst_4  vconst_5  \\\n",
      "0        1    1     0.859036  0.927825  0.252866  0.298838  0.170521   \n",
      "48       1   49     0.728289  0.783255  0.959955  0.054978  0.422302   \n",
      "57       1   58     0.964653  0.867315  0.436953  0.070029  0.144875   \n",
      "62       1   63     0.616469  0.741596  0.781656  0.033420  0.239747   \n",
      "479      3  120     0.740677  0.621174  0.961412  0.049750  0.947234   \n",
      "..     ...  ...          ...       ...       ...       ...       ...   \n",
      "184      2    5     0.102744  0.752122  0.669128  0.703405  0.248705   \n",
      "182      2    3     0.667951  0.960458  0.375774  0.887335  0.405682   \n",
      "181      2    2     0.161031  0.314261  0.027817  0.273993  0.346503   \n",
      "142      1  143     0.751171  0.055183  0.876063  0.031708  0.953696   \n",
      "539      3  180     0.608075  0.031556  0.598264  0.794771  0.145680   \n",
      "\n",
      "     vconst_7   ah_corr  ah_bolus  ...  efficiency_factor  tidal_mix_max  \\\n",
      "0    0.735936  0.428325  0.567947  ...           0.245675       0.104226   \n",
      "48   0.189559  0.768513  0.898006  ...           0.696245       0.014254   \n",
      "57   0.199279  0.701177  0.366411  ...           0.127939       0.687026   \n",
      "62   0.149745  0.405233  0.937797  ...           0.034082       0.633758   \n",
      "479  0.953360  0.515263  0.122214  ...           0.497678       0.770824   \n",
      "..        ...       ...       ...  ...                ...            ...   \n",
      "184  0.281889  0.603434  0.729505  ...           0.276265       0.661212   \n",
      "182  0.165900  0.695877  0.267805  ...           0.482086       0.631642   \n",
      "181  0.004312  0.881765  0.216360  ...           0.095488       0.267655   \n",
      "142  0.115376  0.358328  0.855212  ...           0.938578       0.759927   \n",
      "539  0.378183  0.461948  0.425291  ...           0.480938       0.307816   \n",
      "\n",
      "     vertical_decay_scale  convect_corr  bckgrnd_vdc1  bckgrnd_vdc_ban  \\\n",
      "0                0.869091      0.997518      0.448620         0.307522   \n",
      "48               0.848723      0.269197      0.317335         0.365386   \n",
      "57               0.971489      0.025957      0.344136         0.099746   \n",
      "62               0.319370      0.992912      0.408746         0.385854   \n",
      "479              0.601523      0.946707      0.071095         0.362984   \n",
      "..                    ...           ...           ...              ...   \n",
      "184              0.762196      0.071553      0.112864         0.926807   \n",
      "182              0.181234      0.357764      0.933785         0.979460   \n",
      "181              0.121657      0.080504      0.589393         0.176874   \n",
      "142              0.605522      0.242320      0.495308         0.782511   \n",
      "539              0.231638      0.464152      0.583558         0.969365   \n",
      "\n",
      "     bckgrnd_vdc_eq  bckgrnd_vdc_psim   Prandtl  outcome  \n",
      "0          0.858310          0.796997  0.869893        0  \n",
      "48         0.732467          0.445872  0.003184        0  \n",
      "57         0.207240          0.000465  0.949122        0  \n",
      "62         0.554430          0.455547  0.250476        0  \n",
      "479        0.088217          0.287183  0.883087        0  \n",
      "..              ...               ...       ...      ...  \n",
      "184        0.155747          0.729612  0.111089        1  \n",
      "182        0.547773          0.699415  0.537880        1  \n",
      "181        0.471762          0.763559  0.319652        1  \n",
      "142        0.778073          0.144095  0.013249        1  \n",
      "539        0.464331          0.760344  0.762439        1  \n",
      "\n",
      "[540 rows x 21 columns]\n"
     ]
    }
   ],
   "source": [
    "#read the climate dataset csv file \n",
    "climate = pd.read_csv('climate.csv')\n",
    "climate.sort_values('outcome', inplace=True)\n",
    "print(climate)"
   ]
  },
  {
   "cell_type": "code",
   "execution_count": 7,
   "metadata": {},
   "outputs": [
    {
     "name": "stdout",
     "output_type": "stream",
     "text": [
      "<class 'pandas.core.frame.DataFrame'>\n",
      "Int64Index: 540 entries, 0 to 539\n",
      "Data columns (total 21 columns):\n",
      " #   Column                Non-Null Count  Dtype  \n",
      "---  ------                --------------  -----  \n",
      " 0   Study                 540 non-null    int64  \n",
      " 1   Run                   540 non-null    int64  \n",
      " 2   vconst_corr           540 non-null    float64\n",
      " 3   vconst_2              540 non-null    float64\n",
      " 4   vconst_3              540 non-null    float64\n",
      " 5   vconst_4              540 non-null    float64\n",
      " 6   vconst_5              540 non-null    float64\n",
      " 7   vconst_7              540 non-null    float64\n",
      " 8   ah_corr               540 non-null    float64\n",
      " 9   ah_bolus              540 non-null    float64\n",
      " 10  slm_corr              540 non-null    float64\n",
      " 11  efficiency_factor     540 non-null    float64\n",
      " 12  tidal_mix_max         540 non-null    float64\n",
      " 13  vertical_decay_scale  540 non-null    float64\n",
      " 14  convect_corr          540 non-null    float64\n",
      " 15  bckgrnd_vdc1          540 non-null    float64\n",
      " 16  bckgrnd_vdc_ban       540 non-null    float64\n",
      " 17  bckgrnd_vdc_eq        540 non-null    float64\n",
      " 18  bckgrnd_vdc_psim      540 non-null    float64\n",
      " 19  Prandtl               540 non-null    float64\n",
      " 20  outcome               540 non-null    int64  \n",
      "dtypes: float64(18), int64(3)\n",
      "memory usage: 92.8 KB\n"
     ]
    },
    {
     "data": {
      "text/plain": [
       "(540, 21)"
      ]
     },
     "execution_count": 7,
     "metadata": {},
     "output_type": "execute_result"
    }
   ],
   "source": [
    "climate.info()\n",
    "climate.shape"
   ]
  },
  {
   "cell_type": "code",
   "execution_count": 8,
   "metadata": {},
   "outputs": [
    {
     "data": {
      "text/plain": [
       "(540, 21)"
      ]
     },
     "execution_count": 8,
     "metadata": {},
     "output_type": "execute_result"
    }
   ],
   "source": [
    "columnType = ['int64','float64','object']\n",
    "numColumns=list(climate.select_dtypes(include=columnType).columns)\n",
    "data=climate[numColumns]\n",
    "data.shape"
   ]
  },
  {
   "cell_type": "markdown",
   "metadata": {},
   "source": [
    "#### Split the dataset\n",
    "Split the dataset into training, validation and test sets."
   ]
  },
  {
   "cell_type": "code",
   "execution_count": 9,
   "metadata": {},
   "outputs": [],
   "source": [
    "col = climate.drop(columns=['outcome','Study','Run']).columns\n",
    "# col = climate.drop(columns='outcome').columns\n",
    "y = climate['outcome']\n",
    "X = climate[col]"
   ]
  },
  {
   "cell_type": "code",
   "execution_count": 10,
   "metadata": {},
   "outputs": [
    {
     "name": "stdout",
     "output_type": "stream",
     "text": [
      "(345, 18)\n",
      "(87, 18)\n",
      "(108, 18)\n"
     ]
    }
   ],
   "source": [
    "seed_num = 0\n",
    "X_train, X_test, y_train, y_test = train_test_split(X, y, test_size=0.2,random_state=seed_num)\n",
    "X_train,X_val, y_train, y_val = train_test_split(X_train, y_train, test_size=0.2, random_state=seed_num)\n",
    "print(X_train.shape)\n",
    "print(X_val.shape)\n",
    "print(X_test.shape)"
   ]
  },
  {
   "cell_type": "markdown",
   "metadata": {},
   "source": [
    "#### Data preprocessing\n",
    "Perform data preprocessing such as normalization, standardization, label encoding etc.\n",
    "______________________________________________________________________________________\n",
    "Description:"
   ]
  },
  {
   "cell_type": "code",
   "execution_count": 11,
   "metadata": {},
   "outputs": [
    {
     "name": "stdout",
     "output_type": "stream",
     "text": [
      "     vconst_corr  vconst_2  vconst_3  vconst_4  vconst_5  vconst_7   ah_corr  \\\n",
      "0       0.086613  0.569960  0.814199  0.112507  0.571352  0.723524  0.854969   \n",
      "1       0.083660  0.701891  0.412384  0.342099  0.319628  0.732747  0.192892   \n",
      "2       0.488921  0.927233  0.755736  0.872109  0.916482  0.475445  0.384935   \n",
      "3       0.206774  0.855238  0.273855  0.852532  0.717980  0.084972  0.975288   \n",
      "4       0.917343  0.383566  0.582905  0.658446  0.870104  0.660281  0.986264   \n",
      "..           ...       ...       ...       ...       ...       ...       ...   \n",
      "340     0.160832  0.548621  0.151190  0.655261  0.139755  0.798871  0.403534   \n",
      "341     0.076153  0.711244  0.884965  0.121547  0.906154  0.233794  0.364506   \n",
      "342     0.266311  0.081081  0.483240  0.230765  0.825838  0.526178  0.948664   \n",
      "343     0.205391  0.321230  0.615433  0.006624  0.470800  0.383245  0.883003   \n",
      "344     0.864225  0.014840  0.550496  0.131010  0.025591  0.795462  0.758247   \n",
      "\n",
      "     ah_bolus  slm_corr  efficiency_factor  tidal_mix_max  \\\n",
      "0    0.466654  0.069857           0.213653       0.580878   \n",
      "1    0.560615  0.336693           0.317082       0.824216   \n",
      "2    0.908117  0.133074           0.004396       0.019466   \n",
      "3    0.223191  0.255603           0.552208       0.245678   \n",
      "4    0.941592  0.896538           0.865401       0.305998   \n",
      "..        ...       ...                ...            ...   \n",
      "340  0.664859  0.046477           0.577068       0.264562   \n",
      "341  0.784517  0.343415           0.816986       0.712602   \n",
      "342  0.708321  0.030364           0.097404       0.412229   \n",
      "343  0.206692  0.642694           0.178795       0.188137   \n",
      "344  0.481784  0.753439           0.000821       0.532421   \n",
      "\n",
      "     vertical_decay_scale  convect_corr  bckgrnd_vdc1  bckgrnd_vdc_ban  \\\n",
      "0                0.072244      0.972053      0.335533         0.909418   \n",
      "1                0.543670      0.385989      0.837249         0.117528   \n",
      "2                0.056971      0.166858      0.880687         0.230450   \n",
      "3                0.828614      0.682397      0.703574         0.167626   \n",
      "4                0.776493      0.495543      0.357821         0.181352   \n",
      "..                    ...           ...           ...              ...   \n",
      "340              0.961365      0.698534      0.466164         0.637351   \n",
      "341              0.549746      0.852665      0.305216         0.204989   \n",
      "342              0.232554      0.229150      0.658946         0.197413   \n",
      "343              0.108026      0.296312      0.000000         0.130150   \n",
      "344              0.950015      0.573013      0.155784         0.313970   \n",
      "\n",
      "     bckgrnd_vdc_eq  bckgrnd_vdc_psim   Prandtl  \n",
      "0          0.838905          0.792927  0.722833  \n",
      "1          0.478581          0.524120  0.355627  \n",
      "2          0.392854          0.666147  0.009978  \n",
      "3          0.786029          0.003877  0.499102  \n",
      "4          0.344689          0.228947  0.221405  \n",
      "..              ...               ...       ...  \n",
      "340        0.008549          0.147240  0.213860  \n",
      "341        0.646541          0.883874  0.753073  \n",
      "342        0.988164          0.476191  0.881397  \n",
      "343        0.096135          0.707915  0.155079  \n",
      "344        0.333421          0.650062  0.091316  \n",
      "\n",
      "[345 rows x 18 columns]\n"
     ]
    }
   ],
   "source": [
    "# from sklearn.preprocessing import MinMaxScaler, StandardScaler\n",
    "\n",
    "scaler = MinMaxScaler() # normalize data 0-1\n",
    "X_train_norm = scaler.fit_transform(X_train)\n",
    "X_train_norm = pd.DataFrame(X_train_norm)\n",
    "# X_train_norm.rename(col)\n",
    "\n",
    "# create a dictionary of the original and new column names\n",
    "col_dict = {old_name:new_name for old_name, new_name in zip(X_train_norm.columns, col)}\n",
    "\n",
    "# rename the columns of the DataFrame using the dictionary\n",
    "X_train_norm = X_train_norm.rename(columns=col_dict)\n",
    "\n",
    "\n",
    "print(X_train_norm)"
   ]
  },
  {
   "cell_type": "markdown",
   "metadata": {},
   "source": [
    "#### Feature Selection\n",
    "Perform feature selection to select the relevant features.\n",
    "______________________________________________________________________________________\n",
    "Description:"
   ]
  },
  {
   "cell_type": "code",
   "execution_count": 12,
   "metadata": {},
   "outputs": [
    {
     "name": "stdout",
     "output_type": "stream",
     "text": [
      "No columns that are hightly collerated with each others\n",
      "(345, 18)\n",
      "(87, 18)\n",
      "(108, 18)\n"
     ]
    }
   ],
   "source": [
    "def correlation(dataset,threshold):\n",
    "    col_corr=set()\n",
    "    corr_matrix=pd.DataFrame(dataset).corr() \n",
    "    for i in range(len(corr_matrix.columns)): \n",
    "        for j in range(i):\n",
    "            if abs(corr_matrix.iloc[i,j])>threshold: \n",
    "                colName=corr_matrix.columns[i] \n",
    "                col_corr.add(colName) \n",
    "    return col_corr \n",
    "\n",
    "col=correlation(X_train,0.8)\n",
    "if (len(col) == 0):\n",
    "    print('No columns that are hightly collerated with each others')\n",
    "else:\n",
    "    print('Correlated columns:',col)  \n",
    "    \n",
    "#after dopped correlated column\n",
    "print(X_train.shape)\n",
    "print(X_val.shape)\n",
    "print(X_test.shape)"
   ]
  },
  {
   "cell_type": "markdown",
   "metadata": {},
   "source": [
    "#### Feature Selection for Decision Tree"
   ]
  },
  {
   "cell_type": "code",
   "execution_count": 13,
   "metadata": {},
   "outputs": [
    {
     "name": "stderr",
     "output_type": "stream",
     "text": [
      "[Parallel(n_jobs=1)]: Using backend SequentialBackend with 1 concurrent workers.\n",
      "[Parallel(n_jobs=1)]: Done   1 out of   1 | elapsed:    3.8s remaining:    0.0s\n",
      "[Parallel(n_jobs=1)]: Done  18 out of  18 | elapsed:    8.2s finished\n",
      "\n",
      "[2023-05-04 18:20:28] Features: 1/18 -- score: 0.8725131066003495[Parallel(n_jobs=1)]: Using backend SequentialBackend with 1 concurrent workers.\n",
      "[Parallel(n_jobs=1)]: Done   1 out of   1 | elapsed:    0.2s remaining:    0.0s\n",
      "[Parallel(n_jobs=1)]: Done  17 out of  17 | elapsed:    4.2s finished\n",
      "\n",
      "[2023-05-04 18:20:32] Features: 2/18 -- score: 0.9130427476811399[Parallel(n_jobs=1)]: Using backend SequentialBackend with 1 concurrent workers.\n",
      "[Parallel(n_jobs=1)]: Done   1 out of   1 | elapsed:    0.1s remaining:    0.0s\n",
      "[Parallel(n_jobs=1)]: Done  16 out of  16 | elapsed:    3.9s finished\n",
      "\n",
      "[2023-05-04 18:20:36] Features: 3/18 -- score: 0.918856701169512[Parallel(n_jobs=1)]: Using backend SequentialBackend with 1 concurrent workers.\n",
      "[Parallel(n_jobs=1)]: Done   1 out of   1 | elapsed:    0.1s remaining:    0.0s\n",
      "[Parallel(n_jobs=1)]: Done  15 out of  15 | elapsed:    3.6s finished\n",
      "\n",
      "[2023-05-04 18:20:40] Features: 4/18 -- score: 0.9333243715553166[Parallel(n_jobs=1)]: Using backend SequentialBackend with 1 concurrent workers.\n",
      "[Parallel(n_jobs=1)]: Done   1 out of   1 | elapsed:    0.2s remaining:    0.0s\n",
      "[Parallel(n_jobs=1)]: Done  14 out of  14 | elapsed:    3.4s finished\n",
      "\n",
      "[2023-05-04 18:20:43] Features: 5/18 -- score: 0.9420116951203119[Parallel(n_jobs=1)]: Using backend SequentialBackend with 1 concurrent workers.\n",
      "[Parallel(n_jobs=1)]: Done   1 out of   1 | elapsed:    0.2s remaining:    0.0s\n",
      "[Parallel(n_jobs=1)]: Done  13 out of  13 | elapsed:    3.1s finished\n",
      "\n",
      "[2023-05-04 18:20:46] Features: 6/18 -- score: 0.9420116951203119[Parallel(n_jobs=1)]: Using backend SequentialBackend with 1 concurrent workers.\n",
      "[Parallel(n_jobs=1)]: Done   1 out of   1 | elapsed:    0.2s remaining:    0.0s\n",
      "[Parallel(n_jobs=1)]: Done  12 out of  12 | elapsed:    2.9s finished\n",
      "\n",
      "[2023-05-04 18:20:49] Features: 7/18 -- score: 0.9449018685307164[Parallel(n_jobs=1)]: Using backend SequentialBackend with 1 concurrent workers.\n",
      "[Parallel(n_jobs=1)]: Done   1 out of   1 | elapsed:    0.2s remaining:    0.0s\n",
      "[Parallel(n_jobs=1)]: Done  11 out of  11 | elapsed:    2.7s finished\n",
      "\n",
      "[2023-05-04 18:20:52] Features: 8/18 -- score: 0.9449018685307164[Parallel(n_jobs=1)]: Using backend SequentialBackend with 1 concurrent workers.\n",
      "[Parallel(n_jobs=1)]: Done   1 out of   1 | elapsed:    0.2s remaining:    0.0s\n",
      "[Parallel(n_jobs=1)]: Done  10 out of  10 | elapsed:    2.4s finished\n",
      "\n",
      "[2023-05-04 18:20:55] Features: 9/18 -- score: 0.9478088452749025[Parallel(n_jobs=1)]: Using backend SequentialBackend with 1 concurrent workers.\n",
      "[Parallel(n_jobs=1)]: Done   1 out of   1 | elapsed:    0.2s remaining:    0.0s\n",
      "[Parallel(n_jobs=1)]: Done   9 out of   9 | elapsed:    2.2s finished\n",
      "\n",
      "[2023-05-04 18:20:57] Features: 10/18 -- score: 0.9420284984540933[Parallel(n_jobs=1)]: Using backend SequentialBackend with 1 concurrent workers.\n",
      "[Parallel(n_jobs=1)]: Done   1 out of   1 | elapsed:    0.2s remaining:    0.0s\n",
      "[Parallel(n_jobs=1)]: Done   8 out of   8 | elapsed:    1.9s finished\n",
      "\n",
      "[2023-05-04 18:20:59] Features: 11/18 -- score: 0.9362145449657212[Parallel(n_jobs=1)]: Using backend SequentialBackend with 1 concurrent workers.\n",
      "[Parallel(n_jobs=1)]: Done   1 out of   1 | elapsed:    0.2s remaining:    0.0s\n",
      "[Parallel(n_jobs=1)]: Done   7 out of   7 | elapsed:    1.7s finished\n",
      "\n",
      "[2023-05-04 18:21:01] Features: 12/18 -- score: 0.9362313482995026[Parallel(n_jobs=1)]: Using backend SequentialBackend with 1 concurrent workers.\n",
      "[Parallel(n_jobs=1)]: Done   1 out of   1 | elapsed:    0.2s remaining:    0.0s\n",
      "[Parallel(n_jobs=1)]: Done   6 out of   6 | elapsed:    1.4s finished\n",
      "\n",
      "[2023-05-04 18:21:02] Features: 13/18 -- score: 0.9362313482995026[Parallel(n_jobs=1)]: Using backend SequentialBackend with 1 concurrent workers.\n",
      "[Parallel(n_jobs=1)]: Done   1 out of   1 | elapsed:    0.2s remaining:    0.0s\n",
      "[Parallel(n_jobs=1)]: Done   5 out of   5 | elapsed:    1.2s finished\n",
      "\n",
      "[2023-05-04 18:21:04] Features: 14/18 -- score: 0.927527221400726[Parallel(n_jobs=1)]: Using backend SequentialBackend with 1 concurrent workers.\n",
      "[Parallel(n_jobs=1)]: Done   1 out of   1 | elapsed:    0.1s remaining:    0.0s\n",
      "[Parallel(n_jobs=1)]: Done   4 out of   4 | elapsed:    0.9s finished\n",
      "\n",
      "[2023-05-04 18:21:05] Features: 15/18 -- score: 0.9246034413227584[Parallel(n_jobs=1)]: Using backend SequentialBackend with 1 concurrent workers.\n",
      "[Parallel(n_jobs=1)]: Done   1 out of   1 | elapsed:    0.2s remaining:    0.0s\n",
      "[Parallel(n_jobs=1)]: Done   3 out of   3 | elapsed:    0.6s finished\n",
      "\n",
      "[2023-05-04 18:21:05] Features: 16/18 -- score: 0.9246370479903212[Parallel(n_jobs=1)]: Using backend SequentialBackend with 1 concurrent workers.\n",
      "[Parallel(n_jobs=1)]: Done   1 out of   1 | elapsed:    0.2s remaining:    0.0s\n",
      "[Parallel(n_jobs=1)]: Done   2 out of   2 | elapsed:    0.4s finished\n",
      "\n",
      "[2023-05-04 18:21:06] Features: 17/18 -- score: 0.9188398978357306[Parallel(n_jobs=1)]: Using backend SequentialBackend with 1 concurrent workers.\n",
      "[Parallel(n_jobs=1)]: Done   1 out of   1 | elapsed:    0.2s remaining:    0.0s\n",
      "[Parallel(n_jobs=1)]: Done   1 out of   1 | elapsed:    0.2s finished\n",
      "\n",
      "[2023-05-04 18:21:06] Features: 18/18 -- score: 0.9188398978357306"
     ]
    },
    {
     "data": {
      "text/plain": [
       "Index(['vconst_corr', 'vconst_2', 'slm_corr', 'vertical_decay_scale',\n",
       "       'convect_corr', 'bckgrnd_vdc1', 'bckgrnd_vdc_eq', 'bckgrnd_vdc_psim',\n",
       "       'Prandtl'],\n",
       "      dtype='object')"
      ]
     },
     "execution_count": 13,
     "metadata": {},
     "output_type": "execute_result"
    }
   ],
   "source": [
    "# from mlxtend.feature_selection import SequentialFeatureSelector as sfs\n",
    "# from sklearn.ensemble import RandomForestClassifier\n",
    "\n",
    "# Convert X_train_norm to a Pandas DataFrame\n",
    "# X_train_norm_df = pd.DataFrame(X_train_norm, columns=X_train.columns)\n",
    "\n",
    "feature_selector = sfs(RandomForestClassifier(n_jobs=-1, random_state=seed_num), k_features=(5,18), forward=True, floating=False, verbose=2, scoring='accuracy', cv=2)\n",
    "sfs = feature_selector.fit(X_train_norm, y_train)\n",
    "selected_features_decisiontree = X_train.columns[list(sfs.k_feature_idx_)]\n",
    "selected_features_decisiontree"
   ]
  },
  {
   "cell_type": "code",
   "execution_count": 14,
   "metadata": {},
   "outputs": [],
   "source": [
    "selected_features_decisiontree =  ['vconst_corr', 'vconst_2', 'slm_corr', 'vertical_decay_scale',\n",
    "       'convect_corr', 'bckgrnd_vdc1', 'bckgrnd_vdc_eq', 'bckgrnd_vdc_psim',\n",
    "       'Prandtl']"
   ]
  },
  {
   "cell_type": "markdown",
   "metadata": {},
   "source": [
    "#### Feature Selection for SVM"
   ]
  },
  {
   "cell_type": "code",
   "execution_count": 16,
   "metadata": {},
   "outputs": [
    {
     "name": "stderr",
     "output_type": "stream",
     "text": [
      "[Parallel(n_jobs=1)]: Using backend SequentialBackend with 1 concurrent workers.\n",
      "[Parallel(n_jobs=1)]: Done   1 out of   1 | elapsed:    0.0s remaining:    0.0s\n",
      "[Parallel(n_jobs=1)]: Done  18 out of  18 | elapsed:    0.0s finished\n",
      "\n",
      "[2023-05-04 18:21:06] Features: 1/18 -- score: 0.9130427476811399[Parallel(n_jobs=1)]: Using backend SequentialBackend with 1 concurrent workers.\n",
      "[Parallel(n_jobs=1)]: Done   1 out of   1 | elapsed:    0.0s remaining:    0.0s\n",
      "[Parallel(n_jobs=1)]: Done  17 out of  17 | elapsed:    0.0s finished\n",
      "\n",
      "[2023-05-04 18:21:06] Features: 2/18 -- score: 0.915949724425326[Parallel(n_jobs=1)]: Using backend SequentialBackend with 1 concurrent workers.\n",
      "[Parallel(n_jobs=1)]: Done   1 out of   1 | elapsed:    0.0s remaining:    0.0s\n",
      "[Parallel(n_jobs=1)]: Done  16 out of  16 | elapsed:    0.0s finished\n",
      "\n",
      "[2023-05-04 18:21:06] Features: 3/18 -- score: 0.9391215217099073[Parallel(n_jobs=1)]: Using backend SequentialBackend with 1 concurrent workers.\n",
      "[Parallel(n_jobs=1)]: Done   1 out of   1 | elapsed:    0.0s remaining:    0.0s\n",
      "[Parallel(n_jobs=1)]: Done  15 out of  15 | elapsed:    0.0s finished\n",
      "\n",
      "[2023-05-04 18:21:06] Features: 4/18 -- score: 0.944885065196935[Parallel(n_jobs=1)]: Using backend SequentialBackend with 1 concurrent workers.\n",
      "[Parallel(n_jobs=1)]: Done   1 out of   1 | elapsed:    0.0s remaining:    0.0s\n",
      "[Parallel(n_jobs=1)]: Done  14 out of  14 | elapsed:    0.0s finished\n",
      "\n",
      "[2023-05-04 18:21:07] Features: 5/18 -- score: 0.9420284984540933[Parallel(n_jobs=1)]: Using backend SequentialBackend with 1 concurrent workers.\n",
      "[Parallel(n_jobs=1)]: Done   1 out of   1 | elapsed:    0.0s remaining:    0.0s\n",
      "[Parallel(n_jobs=1)]: Done  13 out of  13 | elapsed:    0.0s finished\n",
      "\n",
      "[2023-05-04 18:21:07] Features: 6/18 -- score: 0.9507326253528701[Parallel(n_jobs=1)]: Using backend SequentialBackend with 1 concurrent workers.\n",
      "[Parallel(n_jobs=1)]: Done   1 out of   1 | elapsed:    0.0s remaining:    0.0s\n",
      "[Parallel(n_jobs=1)]: Done  12 out of  12 | elapsed:    0.0s finished\n",
      "\n",
      "[2023-05-04 18:21:07] Features: 7/18 -- score: 0.96231012232827[Parallel(n_jobs=1)]: Using backend SequentialBackend with 1 concurrent workers.\n",
      "[Parallel(n_jobs=1)]: Done   1 out of   1 | elapsed:    0.0s remaining:    0.0s\n",
      "[Parallel(n_jobs=1)]: Done  11 out of  11 | elapsed:    0.0s finished\n",
      "\n",
      "[2023-05-04 18:21:07] Features: 8/18 -- score: 0.9652002957386745[Parallel(n_jobs=1)]: Using backend SequentialBackend with 1 concurrent workers.\n",
      "[Parallel(n_jobs=1)]: Done   1 out of   1 | elapsed:    0.0s remaining:    0.0s\n",
      "[Parallel(n_jobs=1)]: Done  10 out of  10 | elapsed:    0.0s finished\n",
      "\n",
      "[2023-05-04 18:21:07] Features: 9/18 -- score: 0.9652002957386745[Parallel(n_jobs=1)]: Using backend SequentialBackend with 1 concurrent workers.\n",
      "[Parallel(n_jobs=1)]: Done   1 out of   1 | elapsed:    0.0s remaining:    0.0s\n",
      "[Parallel(n_jobs=1)]: Done   9 out of   9 | elapsed:    0.0s finished\n",
      "\n",
      "[2023-05-04 18:21:07] Features: 10/18 -- score: 0.9564961688398979[Parallel(n_jobs=1)]: Using backend SequentialBackend with 1 concurrent workers.\n",
      "[Parallel(n_jobs=1)]: Done   1 out of   1 | elapsed:    0.0s remaining:    0.0s\n",
      "[Parallel(n_jobs=1)]: Done   8 out of   8 | elapsed:    0.0s finished\n",
      "\n",
      "[2023-05-04 18:21:07] Features: 11/18 -- score: 0.9536059954294932[Parallel(n_jobs=1)]: Using backend SequentialBackend with 1 concurrent workers.\n",
      "[Parallel(n_jobs=1)]: Done   1 out of   1 | elapsed:    0.0s remaining:    0.0s\n",
      "[Parallel(n_jobs=1)]: Done   7 out of   7 | elapsed:    0.0s finished\n",
      "\n",
      "[2023-05-04 18:21:07] Features: 12/18 -- score: 0.947825648608684[Parallel(n_jobs=1)]: Using backend SequentialBackend with 1 concurrent workers.\n",
      "[Parallel(n_jobs=1)]: Done   1 out of   1 | elapsed:    0.0s remaining:    0.0s\n",
      "[Parallel(n_jobs=1)]: Done   6 out of   6 | elapsed:    0.0s finished\n",
      "\n",
      "[2023-05-04 18:21:07] Features: 13/18 -- score: 0.9594199489178653[Parallel(n_jobs=1)]: Using backend SequentialBackend with 1 concurrent workers.\n",
      "[Parallel(n_jobs=1)]: Done   1 out of   1 | elapsed:    0.0s remaining:    0.0s\n",
      "[Parallel(n_jobs=1)]: Done   5 out of   5 | elapsed:    0.0s finished\n",
      "\n",
      "[2023-05-04 18:21:07] Features: 14/18 -- score: 0.9478088452749025[Parallel(n_jobs=1)]: Using backend SequentialBackend with 1 concurrent workers.\n",
      "[Parallel(n_jobs=1)]: Done   1 out of   1 | elapsed:    0.0s remaining:    0.0s\n",
      "[Parallel(n_jobs=1)]: Done   4 out of   4 | elapsed:    0.0s finished\n",
      "\n",
      "[2023-05-04 18:21:07] Features: 15/18 -- score: 0.9536059954294932[Parallel(n_jobs=1)]: Using backend SequentialBackend with 1 concurrent workers.\n",
      "[Parallel(n_jobs=1)]: Done   1 out of   1 | elapsed:    0.0s remaining:    0.0s\n",
      "[Parallel(n_jobs=1)]: Done   3 out of   3 | elapsed:    0.0s finished\n",
      "\n",
      "[2023-05-04 18:21:07] Features: 16/18 -- score: 0.947825648608684[Parallel(n_jobs=1)]: Using backend SequentialBackend with 1 concurrent workers.\n",
      "[Parallel(n_jobs=1)]: Done   1 out of   1 | elapsed:    0.0s remaining:    0.0s\n",
      "[Parallel(n_jobs=1)]: Done   2 out of   2 | elapsed:    0.0s finished\n",
      "\n",
      "[2023-05-04 18:21:07] Features: 17/18 -- score: 0.9391215217099073[Parallel(n_jobs=1)]: Using backend SequentialBackend with 1 concurrent workers.\n",
      "[Parallel(n_jobs=1)]: Done   1 out of   1 | elapsed:    0.0s remaining:    0.0s\n",
      "[Parallel(n_jobs=1)]: Done   1 out of   1 | elapsed:    0.0s finished\n",
      "\n",
      "[2023-05-04 18:21:07] Features: 18/18 -- score: 0.9275440247345073"
     ]
    },
    {
     "data": {
      "text/plain": [
       "Index(['vconst_corr', 'vconst_2', 'slm_corr', 'efficiency_factor',\n",
       "       'vertical_decay_scale', 'convect_corr', 'bckgrnd_vdc1',\n",
       "       'bckgrnd_vdc_eq'],\n",
       "      dtype='object')"
      ]
     },
     "execution_count": 16,
     "metadata": {},
     "output_type": "execute_result"
    }
   ],
   "source": [
    "from mlxtend.feature_selection import SequentialFeatureSelector as sfs\n",
    "# from sklearn.svm import SVC\n",
    "feature_selector_svm = sfs(SVC(kernel='poly', degree=2, gamma='scale', coef0=1, C=5, random_state=seed_num), k_features=(5,len(X_train.columns)), forward=True, floating=False, verbose=2, scoring='accuracy', cv=2)\n",
    "sfs = feature_selector_svm.fit(X_train_norm, y_train)\n",
    "selected_features_svm =X_train.columns[list(sfs.k_feature_idx_)]\n",
    "selected_features_svm"
   ]
  },
  {
   "cell_type": "code",
   "execution_count": 17,
   "metadata": {},
   "outputs": [],
   "source": [
    "selected_features_svm =  ['vconst_corr', 'vconst_2', 'slm_corr', 'efficiency_factor',\n",
    "       'vertical_decay_scale', 'convect_corr', 'bckgrnd_vdc1',\n",
    "       'bckgrnd_vdc_eq']"
   ]
  },
  {
   "cell_type": "markdown",
   "metadata": {},
   "source": [
    "#### Data modeling\n",
    "Build the machine learning models. You must build atleast two (2) predictive models. One of the predictive models must be either Decision Tree or Support Vector Machine.\n",
    "______________________________________________________________________________________\n",
    "Description:"
   ]
  },
  {
   "cell_type": "markdown",
   "metadata": {},
   "source": [
    "#### Data modeling for Decision Tree"
   ]
  },
  {
   "cell_type": "markdown",
   "metadata": {},
   "source": [
    "##### Data modeling for Decision Tree (gini)"
   ]
  },
  {
   "cell_type": "code",
   "execution_count": 19,
   "metadata": {},
   "outputs": [
    {
     "name": "stdout",
     "output_type": "stream",
     "text": [
      "['vconst_corr', 'vconst_2', 'slm_corr', 'vertical_decay_scale', 'convect_corr', 'bckgrnd_vdc1', 'bckgrnd_vdc_eq', 'bckgrnd_vdc_psim', 'Prandtl']\n"
     ]
    }
   ],
   "source": [
    "decisiontree_selected_features = selected_features_decisiontree\n",
    "selected_features_decisiontree = list(selected_features_decisiontree)\n",
    "print(selected_features_decisiontree)\n",
    "X_train_norm_decisiontree = X_train_norm[selected_features_decisiontree]\n",
    "X_val_decisiontree = X_val[selected_features_decisiontree]\n",
    "X_test_decisiontree = X_test[selected_features_decisiontree]"
   ]
  },
  {
   "cell_type": "code",
   "execution_count": 20,
   "metadata": {},
   "outputs": [
    {
     "data": {
      "text/html": [
       "<style>#sk-container-id-1 {color: black;background-color: white;}#sk-container-id-1 pre{padding: 0;}#sk-container-id-1 div.sk-toggleable {background-color: white;}#sk-container-id-1 label.sk-toggleable__label {cursor: pointer;display: block;width: 100%;margin-bottom: 0;padding: 0.3em;box-sizing: border-box;text-align: center;}#sk-container-id-1 label.sk-toggleable__label-arrow:before {content: \"▸\";float: left;margin-right: 0.25em;color: #696969;}#sk-container-id-1 label.sk-toggleable__label-arrow:hover:before {color: black;}#sk-container-id-1 div.sk-estimator:hover label.sk-toggleable__label-arrow:before {color: black;}#sk-container-id-1 div.sk-toggleable__content {max-height: 0;max-width: 0;overflow: hidden;text-align: left;background-color: #f0f8ff;}#sk-container-id-1 div.sk-toggleable__content pre {margin: 0.2em;color: black;border-radius: 0.25em;background-color: #f0f8ff;}#sk-container-id-1 input.sk-toggleable__control:checked~div.sk-toggleable__content {max-height: 200px;max-width: 100%;overflow: auto;}#sk-container-id-1 input.sk-toggleable__control:checked~label.sk-toggleable__label-arrow:before {content: \"▾\";}#sk-container-id-1 div.sk-estimator input.sk-toggleable__control:checked~label.sk-toggleable__label {background-color: #d4ebff;}#sk-container-id-1 div.sk-label input.sk-toggleable__control:checked~label.sk-toggleable__label {background-color: #d4ebff;}#sk-container-id-1 input.sk-hidden--visually {border: 0;clip: rect(1px 1px 1px 1px);clip: rect(1px, 1px, 1px, 1px);height: 1px;margin: -1px;overflow: hidden;padding: 0;position: absolute;width: 1px;}#sk-container-id-1 div.sk-estimator {font-family: monospace;background-color: #f0f8ff;border: 1px dotted black;border-radius: 0.25em;box-sizing: border-box;margin-bottom: 0.5em;}#sk-container-id-1 div.sk-estimator:hover {background-color: #d4ebff;}#sk-container-id-1 div.sk-parallel-item::after {content: \"\";width: 100%;border-bottom: 1px solid gray;flex-grow: 1;}#sk-container-id-1 div.sk-label:hover label.sk-toggleable__label {background-color: #d4ebff;}#sk-container-id-1 div.sk-serial::before {content: \"\";position: absolute;border-left: 1px solid gray;box-sizing: border-box;top: 0;bottom: 0;left: 50%;z-index: 0;}#sk-container-id-1 div.sk-serial {display: flex;flex-direction: column;align-items: center;background-color: white;padding-right: 0.2em;padding-left: 0.2em;position: relative;}#sk-container-id-1 div.sk-item {position: relative;z-index: 1;}#sk-container-id-1 div.sk-parallel {display: flex;align-items: stretch;justify-content: center;background-color: white;position: relative;}#sk-container-id-1 div.sk-item::before, #sk-container-id-1 div.sk-parallel-item::before {content: \"\";position: absolute;border-left: 1px solid gray;box-sizing: border-box;top: 0;bottom: 0;left: 50%;z-index: -1;}#sk-container-id-1 div.sk-parallel-item {display: flex;flex-direction: column;z-index: 1;position: relative;background-color: white;}#sk-container-id-1 div.sk-parallel-item:first-child::after {align-self: flex-end;width: 50%;}#sk-container-id-1 div.sk-parallel-item:last-child::after {align-self: flex-start;width: 50%;}#sk-container-id-1 div.sk-parallel-item:only-child::after {width: 0;}#sk-container-id-1 div.sk-dashed-wrapped {border: 1px dashed gray;margin: 0 0.4em 0.5em 0.4em;box-sizing: border-box;padding-bottom: 0.4em;background-color: white;}#sk-container-id-1 div.sk-label label {font-family: monospace;font-weight: bold;display: inline-block;line-height: 1.2em;}#sk-container-id-1 div.sk-label-container {text-align: center;}#sk-container-id-1 div.sk-container {/* jupyter's `normalize.less` sets `[hidden] { display: none; }` but bootstrap.min.css set `[hidden] { display: none !important; }` so we also need the `!important` here to be able to override the default hidden behavior on the sphinx rendered scikit-learn.org. See: https://github.com/scikit-learn/scikit-learn/issues/21755 */display: inline-block !important;position: relative;}#sk-container-id-1 div.sk-text-repr-fallback {display: none;}</style><div id=\"sk-container-id-1\" class=\"sk-top-container\"><div class=\"sk-text-repr-fallback\"><pre>DecisionTreeClassifier(random_state=0)</pre><b>In a Jupyter environment, please rerun this cell to show the HTML representation or trust the notebook. <br />On GitHub, the HTML representation is unable to render, please try loading this page with nbviewer.org.</b></div><div class=\"sk-container\" hidden><div class=\"sk-item\"><div class=\"sk-estimator sk-toggleable\"><input class=\"sk-toggleable__control sk-hidden--visually\" id=\"sk-estimator-id-1\" type=\"checkbox\" checked><label for=\"sk-estimator-id-1\" class=\"sk-toggleable__label sk-toggleable__label-arrow\">DecisionTreeClassifier</label><div class=\"sk-toggleable__content\"><pre>DecisionTreeClassifier(random_state=0)</pre></div></div></div></div></div>"
      ],
      "text/plain": [
       "DecisionTreeClassifier(random_state=0)"
      ]
     },
     "execution_count": 20,
     "metadata": {},
     "output_type": "execute_result"
    }
   ],
   "source": [
    "#using gini for information gain \n",
    "from sklearn.tree import DecisionTreeClassifier\n",
    "model_dt_gini= DecisionTreeClassifier(criterion='gini',random_state=seed_num)\n",
    "model_dt_gini.fit(X_train_norm_decisiontree, y_train)"
   ]
  },
  {
   "cell_type": "code",
   "execution_count": 21,
   "metadata": {},
   "outputs": [
    {
     "name": "stdout",
     "output_type": "stream",
     "text": [
      "Decision Tree classifier with max_depth=3 achieves a mean accuracy of 0.896551724137931\n",
      "Decision Tree classifier with max_depth=4 achieves a mean accuracy of 0.9080459770114943\n",
      "Decision Tree classifier with max_depth=5 achieves a mean accuracy of 0.9195402298850575\n",
      "Decision Tree classifier with max_depth=6 achieves a mean accuracy of 0.8850574712643678\n",
      "Decision Tree classifier with max_depth=7 achieves a mean accuracy of 0.8850574712643678\n",
      "Decision Tree classifier with max_depth=8 achieves a mean accuracy of 0.8850574712643678\n",
      "Decision Tree classifier with max_depth=9 achieves a mean accuracy of 0.8850574712643678\n"
     ]
    },
    {
     "data": {
      "text/html": [
       "<style>#sk-container-id-2 {color: black;background-color: white;}#sk-container-id-2 pre{padding: 0;}#sk-container-id-2 div.sk-toggleable {background-color: white;}#sk-container-id-2 label.sk-toggleable__label {cursor: pointer;display: block;width: 100%;margin-bottom: 0;padding: 0.3em;box-sizing: border-box;text-align: center;}#sk-container-id-2 label.sk-toggleable__label-arrow:before {content: \"▸\";float: left;margin-right: 0.25em;color: #696969;}#sk-container-id-2 label.sk-toggleable__label-arrow:hover:before {color: black;}#sk-container-id-2 div.sk-estimator:hover label.sk-toggleable__label-arrow:before {color: black;}#sk-container-id-2 div.sk-toggleable__content {max-height: 0;max-width: 0;overflow: hidden;text-align: left;background-color: #f0f8ff;}#sk-container-id-2 div.sk-toggleable__content pre {margin: 0.2em;color: black;border-radius: 0.25em;background-color: #f0f8ff;}#sk-container-id-2 input.sk-toggleable__control:checked~div.sk-toggleable__content {max-height: 200px;max-width: 100%;overflow: auto;}#sk-container-id-2 input.sk-toggleable__control:checked~label.sk-toggleable__label-arrow:before {content: \"▾\";}#sk-container-id-2 div.sk-estimator input.sk-toggleable__control:checked~label.sk-toggleable__label {background-color: #d4ebff;}#sk-container-id-2 div.sk-label input.sk-toggleable__control:checked~label.sk-toggleable__label {background-color: #d4ebff;}#sk-container-id-2 input.sk-hidden--visually {border: 0;clip: rect(1px 1px 1px 1px);clip: rect(1px, 1px, 1px, 1px);height: 1px;margin: -1px;overflow: hidden;padding: 0;position: absolute;width: 1px;}#sk-container-id-2 div.sk-estimator {font-family: monospace;background-color: #f0f8ff;border: 1px dotted black;border-radius: 0.25em;box-sizing: border-box;margin-bottom: 0.5em;}#sk-container-id-2 div.sk-estimator:hover {background-color: #d4ebff;}#sk-container-id-2 div.sk-parallel-item::after {content: \"\";width: 100%;border-bottom: 1px solid gray;flex-grow: 1;}#sk-container-id-2 div.sk-label:hover label.sk-toggleable__label {background-color: #d4ebff;}#sk-container-id-2 div.sk-serial::before {content: \"\";position: absolute;border-left: 1px solid gray;box-sizing: border-box;top: 0;bottom: 0;left: 50%;z-index: 0;}#sk-container-id-2 div.sk-serial {display: flex;flex-direction: column;align-items: center;background-color: white;padding-right: 0.2em;padding-left: 0.2em;position: relative;}#sk-container-id-2 div.sk-item {position: relative;z-index: 1;}#sk-container-id-2 div.sk-parallel {display: flex;align-items: stretch;justify-content: center;background-color: white;position: relative;}#sk-container-id-2 div.sk-item::before, #sk-container-id-2 div.sk-parallel-item::before {content: \"\";position: absolute;border-left: 1px solid gray;box-sizing: border-box;top: 0;bottom: 0;left: 50%;z-index: -1;}#sk-container-id-2 div.sk-parallel-item {display: flex;flex-direction: column;z-index: 1;position: relative;background-color: white;}#sk-container-id-2 div.sk-parallel-item:first-child::after {align-self: flex-end;width: 50%;}#sk-container-id-2 div.sk-parallel-item:last-child::after {align-self: flex-start;width: 50%;}#sk-container-id-2 div.sk-parallel-item:only-child::after {width: 0;}#sk-container-id-2 div.sk-dashed-wrapped {border: 1px dashed gray;margin: 0 0.4em 0.5em 0.4em;box-sizing: border-box;padding-bottom: 0.4em;background-color: white;}#sk-container-id-2 div.sk-label label {font-family: monospace;font-weight: bold;display: inline-block;line-height: 1.2em;}#sk-container-id-2 div.sk-label-container {text-align: center;}#sk-container-id-2 div.sk-container {/* jupyter's `normalize.less` sets `[hidden] { display: none; }` but bootstrap.min.css set `[hidden] { display: none !important; }` so we also need the `!important` here to be able to override the default hidden behavior on the sphinx rendered scikit-learn.org. See: https://github.com/scikit-learn/scikit-learn/issues/21755 */display: inline-block !important;position: relative;}#sk-container-id-2 div.sk-text-repr-fallback {display: none;}</style><div id=\"sk-container-id-2\" class=\"sk-top-container\"><div class=\"sk-text-repr-fallback\"><pre>DecisionTreeClassifier(max_depth=5, min_samples_split=15, random_state=0)</pre><b>In a Jupyter environment, please rerun this cell to show the HTML representation or trust the notebook. <br />On GitHub, the HTML representation is unable to render, please try loading this page with nbviewer.org.</b></div><div class=\"sk-container\" hidden><div class=\"sk-item\"><div class=\"sk-estimator sk-toggleable\"><input class=\"sk-toggleable__control sk-hidden--visually\" id=\"sk-estimator-id-2\" type=\"checkbox\" checked><label for=\"sk-estimator-id-2\" class=\"sk-toggleable__label sk-toggleable__label-arrow\">DecisionTreeClassifier</label><div class=\"sk-toggleable__content\"><pre>DecisionTreeClassifier(max_depth=5, min_samples_split=15, random_state=0)</pre></div></div></div></div></div>"
      ],
      "text/plain": [
       "DecisionTreeClassifier(max_depth=5, min_samples_split=15, random_state=0)"
      ]
     },
     "execution_count": 21,
     "metadata": {},
     "output_type": "execute_result"
    }
   ],
   "source": [
    "#using gini to find the optimum depth of the decision tree which has the highest accuracy\n",
    "dt_models = []\n",
    "depths = np.arange(3,10,1)\n",
    "for d in depths:\n",
    "    model = DecisionTreeClassifier(criterion='gini', min_samples_split=15 ,max_depth=d, random_state=seed_num)\n",
    "    model.fit(X_train_norm_decisiontree, y_train)\n",
    "    dt_models.append(model)\n",
    "best_acc = 0\n",
    "model_best_gini = None\n",
    "for m,d in zip(dt_models, depths):\n",
    "    acc = m.score(X_val_decisiontree, y_val)\n",
    "    print(f'Decision Tree classifier with max_depth={d} achieves a mean accuracy of {acc}')\n",
    "    if acc > best_acc:\n",
    "        best_acc = acc\n",
    "        model_best_gini = m\n",
    "        \n",
    "model_best_gini"
   ]
  },
  {
   "cell_type": "markdown",
   "metadata": {},
   "source": [
    "##### Data modeling for Decision Tree (gini)"
   ]
  },
  {
   "cell_type": "code",
   "execution_count": 22,
   "metadata": {},
   "outputs": [
    {
     "data": {
      "text/html": [
       "<style>#sk-container-id-3 {color: black;background-color: white;}#sk-container-id-3 pre{padding: 0;}#sk-container-id-3 div.sk-toggleable {background-color: white;}#sk-container-id-3 label.sk-toggleable__label {cursor: pointer;display: block;width: 100%;margin-bottom: 0;padding: 0.3em;box-sizing: border-box;text-align: center;}#sk-container-id-3 label.sk-toggleable__label-arrow:before {content: \"▸\";float: left;margin-right: 0.25em;color: #696969;}#sk-container-id-3 label.sk-toggleable__label-arrow:hover:before {color: black;}#sk-container-id-3 div.sk-estimator:hover label.sk-toggleable__label-arrow:before {color: black;}#sk-container-id-3 div.sk-toggleable__content {max-height: 0;max-width: 0;overflow: hidden;text-align: left;background-color: #f0f8ff;}#sk-container-id-3 div.sk-toggleable__content pre {margin: 0.2em;color: black;border-radius: 0.25em;background-color: #f0f8ff;}#sk-container-id-3 input.sk-toggleable__control:checked~div.sk-toggleable__content {max-height: 200px;max-width: 100%;overflow: auto;}#sk-container-id-3 input.sk-toggleable__control:checked~label.sk-toggleable__label-arrow:before {content: \"▾\";}#sk-container-id-3 div.sk-estimator input.sk-toggleable__control:checked~label.sk-toggleable__label {background-color: #d4ebff;}#sk-container-id-3 div.sk-label input.sk-toggleable__control:checked~label.sk-toggleable__label {background-color: #d4ebff;}#sk-container-id-3 input.sk-hidden--visually {border: 0;clip: rect(1px 1px 1px 1px);clip: rect(1px, 1px, 1px, 1px);height: 1px;margin: -1px;overflow: hidden;padding: 0;position: absolute;width: 1px;}#sk-container-id-3 div.sk-estimator {font-family: monospace;background-color: #f0f8ff;border: 1px dotted black;border-radius: 0.25em;box-sizing: border-box;margin-bottom: 0.5em;}#sk-container-id-3 div.sk-estimator:hover {background-color: #d4ebff;}#sk-container-id-3 div.sk-parallel-item::after {content: \"\";width: 100%;border-bottom: 1px solid gray;flex-grow: 1;}#sk-container-id-3 div.sk-label:hover label.sk-toggleable__label {background-color: #d4ebff;}#sk-container-id-3 div.sk-serial::before {content: \"\";position: absolute;border-left: 1px solid gray;box-sizing: border-box;top: 0;bottom: 0;left: 50%;z-index: 0;}#sk-container-id-3 div.sk-serial {display: flex;flex-direction: column;align-items: center;background-color: white;padding-right: 0.2em;padding-left: 0.2em;position: relative;}#sk-container-id-3 div.sk-item {position: relative;z-index: 1;}#sk-container-id-3 div.sk-parallel {display: flex;align-items: stretch;justify-content: center;background-color: white;position: relative;}#sk-container-id-3 div.sk-item::before, #sk-container-id-3 div.sk-parallel-item::before {content: \"\";position: absolute;border-left: 1px solid gray;box-sizing: border-box;top: 0;bottom: 0;left: 50%;z-index: -1;}#sk-container-id-3 div.sk-parallel-item {display: flex;flex-direction: column;z-index: 1;position: relative;background-color: white;}#sk-container-id-3 div.sk-parallel-item:first-child::after {align-self: flex-end;width: 50%;}#sk-container-id-3 div.sk-parallel-item:last-child::after {align-self: flex-start;width: 50%;}#sk-container-id-3 div.sk-parallel-item:only-child::after {width: 0;}#sk-container-id-3 div.sk-dashed-wrapped {border: 1px dashed gray;margin: 0 0.4em 0.5em 0.4em;box-sizing: border-box;padding-bottom: 0.4em;background-color: white;}#sk-container-id-3 div.sk-label label {font-family: monospace;font-weight: bold;display: inline-block;line-height: 1.2em;}#sk-container-id-3 div.sk-label-container {text-align: center;}#sk-container-id-3 div.sk-container {/* jupyter's `normalize.less` sets `[hidden] { display: none; }` but bootstrap.min.css set `[hidden] { display: none !important; }` so we also need the `!important` here to be able to override the default hidden behavior on the sphinx rendered scikit-learn.org. See: https://github.com/scikit-learn/scikit-learn/issues/21755 */display: inline-block !important;position: relative;}#sk-container-id-3 div.sk-text-repr-fallback {display: none;}</style><div id=\"sk-container-id-3\" class=\"sk-top-container\"><div class=\"sk-text-repr-fallback\"><pre>DecisionTreeClassifier(criterion=&#x27;entropy&#x27;, random_state=0)</pre><b>In a Jupyter environment, please rerun this cell to show the HTML representation or trust the notebook. <br />On GitHub, the HTML representation is unable to render, please try loading this page with nbviewer.org.</b></div><div class=\"sk-container\" hidden><div class=\"sk-item\"><div class=\"sk-estimator sk-toggleable\"><input class=\"sk-toggleable__control sk-hidden--visually\" id=\"sk-estimator-id-3\" type=\"checkbox\" checked><label for=\"sk-estimator-id-3\" class=\"sk-toggleable__label sk-toggleable__label-arrow\">DecisionTreeClassifier</label><div class=\"sk-toggleable__content\"><pre>DecisionTreeClassifier(criterion=&#x27;entropy&#x27;, random_state=0)</pre></div></div></div></div></div>"
      ],
      "text/plain": [
       "DecisionTreeClassifier(criterion='entropy', random_state=0)"
      ]
     },
     "execution_count": 22,
     "metadata": {},
     "output_type": "execute_result"
    }
   ],
   "source": [
    "#using entropy \n",
    "# from sklearn.tree import DecisionTreeClassifier\n",
    "model_dt_entropy= DecisionTreeClassifier(criterion='entropy',random_state=seed_num)\n",
    "model_dt_entropy.fit(X_train_norm_decisiontree, y_train)"
   ]
  },
  {
   "cell_type": "code",
   "execution_count": 23,
   "metadata": {},
   "outputs": [
    {
     "name": "stdout",
     "output_type": "stream",
     "text": [
      "Decision Tree classifier with max_depth=3 achieves a mean accuracy of 0.9195402298850575\n",
      "Decision Tree classifier with max_depth=4 achieves a mean accuracy of 0.9195402298850575\n",
      "Decision Tree classifier with max_depth=5 achieves a mean accuracy of 0.9195402298850575\n",
      "Decision Tree classifier with max_depth=6 achieves a mean accuracy of 0.896551724137931\n",
      "Decision Tree classifier with max_depth=7 achieves a mean accuracy of 0.896551724137931\n",
      "Decision Tree classifier with max_depth=8 achieves a mean accuracy of 0.896551724137931\n",
      "Decision Tree classifier with max_depth=9 achieves a mean accuracy of 0.896551724137931\n"
     ]
    },
    {
     "data": {
      "text/html": [
       "<style>#sk-container-id-4 {color: black;background-color: white;}#sk-container-id-4 pre{padding: 0;}#sk-container-id-4 div.sk-toggleable {background-color: white;}#sk-container-id-4 label.sk-toggleable__label {cursor: pointer;display: block;width: 100%;margin-bottom: 0;padding: 0.3em;box-sizing: border-box;text-align: center;}#sk-container-id-4 label.sk-toggleable__label-arrow:before {content: \"▸\";float: left;margin-right: 0.25em;color: #696969;}#sk-container-id-4 label.sk-toggleable__label-arrow:hover:before {color: black;}#sk-container-id-4 div.sk-estimator:hover label.sk-toggleable__label-arrow:before {color: black;}#sk-container-id-4 div.sk-toggleable__content {max-height: 0;max-width: 0;overflow: hidden;text-align: left;background-color: #f0f8ff;}#sk-container-id-4 div.sk-toggleable__content pre {margin: 0.2em;color: black;border-radius: 0.25em;background-color: #f0f8ff;}#sk-container-id-4 input.sk-toggleable__control:checked~div.sk-toggleable__content {max-height: 200px;max-width: 100%;overflow: auto;}#sk-container-id-4 input.sk-toggleable__control:checked~label.sk-toggleable__label-arrow:before {content: \"▾\";}#sk-container-id-4 div.sk-estimator input.sk-toggleable__control:checked~label.sk-toggleable__label {background-color: #d4ebff;}#sk-container-id-4 div.sk-label input.sk-toggleable__control:checked~label.sk-toggleable__label {background-color: #d4ebff;}#sk-container-id-4 input.sk-hidden--visually {border: 0;clip: rect(1px 1px 1px 1px);clip: rect(1px, 1px, 1px, 1px);height: 1px;margin: -1px;overflow: hidden;padding: 0;position: absolute;width: 1px;}#sk-container-id-4 div.sk-estimator {font-family: monospace;background-color: #f0f8ff;border: 1px dotted black;border-radius: 0.25em;box-sizing: border-box;margin-bottom: 0.5em;}#sk-container-id-4 div.sk-estimator:hover {background-color: #d4ebff;}#sk-container-id-4 div.sk-parallel-item::after {content: \"\";width: 100%;border-bottom: 1px solid gray;flex-grow: 1;}#sk-container-id-4 div.sk-label:hover label.sk-toggleable__label {background-color: #d4ebff;}#sk-container-id-4 div.sk-serial::before {content: \"\";position: absolute;border-left: 1px solid gray;box-sizing: border-box;top: 0;bottom: 0;left: 50%;z-index: 0;}#sk-container-id-4 div.sk-serial {display: flex;flex-direction: column;align-items: center;background-color: white;padding-right: 0.2em;padding-left: 0.2em;position: relative;}#sk-container-id-4 div.sk-item {position: relative;z-index: 1;}#sk-container-id-4 div.sk-parallel {display: flex;align-items: stretch;justify-content: center;background-color: white;position: relative;}#sk-container-id-4 div.sk-item::before, #sk-container-id-4 div.sk-parallel-item::before {content: \"\";position: absolute;border-left: 1px solid gray;box-sizing: border-box;top: 0;bottom: 0;left: 50%;z-index: -1;}#sk-container-id-4 div.sk-parallel-item {display: flex;flex-direction: column;z-index: 1;position: relative;background-color: white;}#sk-container-id-4 div.sk-parallel-item:first-child::after {align-self: flex-end;width: 50%;}#sk-container-id-4 div.sk-parallel-item:last-child::after {align-self: flex-start;width: 50%;}#sk-container-id-4 div.sk-parallel-item:only-child::after {width: 0;}#sk-container-id-4 div.sk-dashed-wrapped {border: 1px dashed gray;margin: 0 0.4em 0.5em 0.4em;box-sizing: border-box;padding-bottom: 0.4em;background-color: white;}#sk-container-id-4 div.sk-label label {font-family: monospace;font-weight: bold;display: inline-block;line-height: 1.2em;}#sk-container-id-4 div.sk-label-container {text-align: center;}#sk-container-id-4 div.sk-container {/* jupyter's `normalize.less` sets `[hidden] { display: none; }` but bootstrap.min.css set `[hidden] { display: none !important; }` so we also need the `!important` here to be able to override the default hidden behavior on the sphinx rendered scikit-learn.org. See: https://github.com/scikit-learn/scikit-learn/issues/21755 */display: inline-block !important;position: relative;}#sk-container-id-4 div.sk-text-repr-fallback {display: none;}</style><div id=\"sk-container-id-4\" class=\"sk-top-container\"><div class=\"sk-text-repr-fallback\"><pre>DecisionTreeClassifier(criterion=&#x27;entropy&#x27;, max_depth=3, min_samples_split=15,\n",
       "                       random_state=0)</pre><b>In a Jupyter environment, please rerun this cell to show the HTML representation or trust the notebook. <br />On GitHub, the HTML representation is unable to render, please try loading this page with nbviewer.org.</b></div><div class=\"sk-container\" hidden><div class=\"sk-item\"><div class=\"sk-estimator sk-toggleable\"><input class=\"sk-toggleable__control sk-hidden--visually\" id=\"sk-estimator-id-4\" type=\"checkbox\" checked><label for=\"sk-estimator-id-4\" class=\"sk-toggleable__label sk-toggleable__label-arrow\">DecisionTreeClassifier</label><div class=\"sk-toggleable__content\"><pre>DecisionTreeClassifier(criterion=&#x27;entropy&#x27;, max_depth=3, min_samples_split=15,\n",
       "                       random_state=0)</pre></div></div></div></div></div>"
      ],
      "text/plain": [
       "DecisionTreeClassifier(criterion='entropy', max_depth=3, min_samples_split=15,\n",
       "                       random_state=0)"
      ]
     },
     "execution_count": 23,
     "metadata": {},
     "output_type": "execute_result"
    }
   ],
   "source": [
    "#using entropy to find the optimum depth of the decision tree which has the highest accuracy\n",
    "dt_models = []\n",
    "depths = np.arange(3,10,1)\n",
    "for d in depths:\n",
    "    model = DecisionTreeClassifier(criterion='entropy', min_samples_split=15 ,max_depth=d, random_state=seed_num)\n",
    "    model.fit(X_train_norm_decisiontree, y_train)\n",
    "    dt_models.append(model)\n",
    "best_acc = 0\n",
    "model_best_entropy = None\n",
    "for m,d in zip(dt_models, depths):\n",
    "    acc = m.score(X_val_decisiontree, y_val)\n",
    "    print(f'Decision Tree classifier with max_depth={d} achieves a mean accuracy of {acc}')\n",
    "    if acc > best_acc:\n",
    "        best_acc = acc\n",
    "        model_best_entropy = m\n",
    "model_best_entropy"
   ]
  },
  {
   "cell_type": "markdown",
   "metadata": {},
   "source": [
    "#### Data modeling for SVM"
   ]
  },
  {
   "cell_type": "code",
   "execution_count": 24,
   "metadata": {},
   "outputs": [
    {
     "name": "stdout",
     "output_type": "stream",
     "text": [
      "['vconst_corr', 'vconst_2', 'slm_corr', 'efficiency_factor', 'vertical_decay_scale', 'convect_corr', 'bckgrnd_vdc1', 'bckgrnd_vdc_eq']\n"
     ]
    }
   ],
   "source": [
    "selected_features_svm = list(selected_features_svm)\n",
    "print(selected_features_svm)\n",
    "X_train_norm_svm = X_train_norm[selected_features_svm]\n",
    "X_val_svm = X_val[selected_features_svm]\n",
    "X_test_svm = X_test[selected_features_svm]"
   ]
  },
  {
   "cell_type": "code",
   "execution_count": 25,
   "metadata": {},
   "outputs": [
    {
     "ename": "NameError",
     "evalue": "name 'f1_score' is not defined",
     "output_type": "error",
     "traceback": [
      "\u001b[1;31m---------------------------------------------------------------------------\u001b[0m",
      "\u001b[1;31mNameError\u001b[0m                                 Traceback (most recent call last)",
      "\u001b[1;32m~\\AppData\\Local\\Temp/ipykernel_17032/709073189.py\u001b[0m in \u001b[0;36m<module>\u001b[1;34m\u001b[0m\n\u001b[0;32m     25\u001b[0m             \u001b[0msvm\u001b[0m\u001b[1;33m.\u001b[0m\u001b[0mfit\u001b[0m\u001b[1;33m(\u001b[0m\u001b[0mX_train_norm_svm\u001b[0m\u001b[1;33m,\u001b[0m \u001b[0my_train\u001b[0m\u001b[1;33m)\u001b[0m\u001b[1;33m\u001b[0m\u001b[1;33m\u001b[0m\u001b[0m\n\u001b[0;32m     26\u001b[0m             \u001b[0myhat\u001b[0m \u001b[1;33m=\u001b[0m \u001b[0msvm\u001b[0m\u001b[1;33m.\u001b[0m\u001b[0mpredict\u001b[0m\u001b[1;33m(\u001b[0m\u001b[0mX_val_svm\u001b[0m\u001b[1;33m)\u001b[0m\u001b[1;33m\u001b[0m\u001b[1;33m\u001b[0m\u001b[0m\n\u001b[1;32m---> 27\u001b[1;33m             \u001b[0mf1\u001b[0m \u001b[1;33m=\u001b[0m \u001b[0mf1_score\u001b[0m\u001b[1;33m(\u001b[0m\u001b[0my_val\u001b[0m\u001b[1;33m,\u001b[0m \u001b[0myhat\u001b[0m\u001b[1;33m,\u001b[0m \u001b[0maverage\u001b[0m\u001b[1;33m=\u001b[0m\u001b[1;34m'weighted'\u001b[0m\u001b[1;33m)\u001b[0m\u001b[1;33m\u001b[0m\u001b[1;33m\u001b[0m\u001b[0m\n\u001b[0m\u001b[0;32m     28\u001b[0m             \u001b[1;31m# using weighted average f1-score to find the best option instead of accuracy due to imbalance of classes\u001b[0m\u001b[1;33m\u001b[0m\u001b[1;33m\u001b[0m\u001b[0m\n\u001b[0;32m     29\u001b[0m             \u001b[1;32mif\u001b[0m \u001b[0mf1\u001b[0m \u001b[1;33m>\u001b[0m \u001b[0mbest_option_svm\u001b[0m\u001b[1;33m[\u001b[0m\u001b[1;34m'weighted avg f1-score'\u001b[0m\u001b[1;33m]\u001b[0m\u001b[1;33m:\u001b[0m\u001b[1;33m\u001b[0m\u001b[1;33m\u001b[0m\u001b[0m\n",
      "\u001b[1;31mNameError\u001b[0m: name 'f1_score' is not defined"
     ]
    }
   ],
   "source": [
    "# from sklearn.svm import SVC\n",
    "# from sklearn.metrics import accuracy_score,  confusion_matrix, classification_report, f1_score\n",
    "\n",
    "kernel = ['linear', 'poly', 'rbf', 'sigmoid']\n",
    "best_option_svm = {'kernel': None ,\n",
    "                    'C': 0,\n",
    "                    'weighted avg f1-score': 0,\n",
    "                    'degree': 0\n",
    "                    }\n",
    "\n",
    "# repeatly test different kernel with different C value ranging from 1 to 10\n",
    "for kernel in kernel:\n",
    "    # len(X_train.columns)+2 is used as max so that the degree can reach until (no. of features + 1) dimensions\n",
    "    max_degree = len(X_train_norm_svm.columns)+2 if kernel == 'poly' else 1\n",
    "\n",
    "    # print statement below is used for debugging\n",
    "    # print(kernel)\n",
    "    \n",
    "    for degree in range(1,max_degree):\n",
    "        for c in range(1,11):\n",
    "            # print statement below is used for debugging\n",
    "            # print('Degree: {} \\t C: {}\\n'.format(degree,c))\n",
    "\n",
    "            svm = SVC(kernel=kernel, C=c,degree=degree)\n",
    "            svm.fit(X_train_norm_svm, y_train)\n",
    "            yhat = svm.predict(X_val_svm)\n",
    "            f1 = f1_score(y_val, yhat, average='weighted')\n",
    "            # using weighted average f1-score to find the best option instead of accuracy due to imbalance of classes\n",
    "            if f1 > best_option_svm['weighted avg f1-score']:\n",
    "                best_option_svm['kernel'] = kernel\n",
    "                best_option_svm['C'] = c\n",
    "                best_option_svm['weighted avg f1-score'] = f1\n",
    "                best_option_svm['degree'] = (degree if kernel == 'poly' else None)\n",
    "\n",
    "#Display the best kernel with the best C-value\n",
    "best_option_svm"
   ]
  },
  {
   "cell_type": "markdown",
   "metadata": {},
   "source": [
    "#### Evaluate the models\n",
    "Perform a comparison between the predictive models. <br>\n",
    "Report the accuracy, recall, precision and F1-score measures as well as the confusion matrix if it is a classification problem. <br>\n",
    "Report the R2 score, mean squared error and mean absolute error if it is a regression problem.\n",
    "______________________________________________________________________________________\n",
    "Description:"
   ]
  },
  {
   "cell_type": "markdown",
   "metadata": {},
   "source": [
    "#### Evaluate the Performance of Decision Tree (gini and entropy)"
   ]
  },
  {
   "cell_type": "markdown",
   "metadata": {},
   "source": [
    "##### gini"
   ]
  },
  {
   "cell_type": "code",
   "execution_count": null,
   "metadata": {},
   "outputs": [],
   "source": [
    "#Performance after apply the optimum depth of the tree which using gini\n",
    "# from sklearn.metrics import accuracy_score,confusion_matrix,classification_report\n",
    "# from sklearn.metrics import confusion_matrix, ConfusionMatrixDisplay\n",
    "# from matplotlib import pyplot as plt\n",
    "\n",
    "y_pred_gini = model_best_gini.predict(X_test_decisiontree)\n",
    "print(model_best_gini)\n",
    "print('\\nAccuracy : {}'.format(accuracy_score(y_test,y_pred_gini)))\n",
    "print('Confusion Matrix : \\n{}\\n'.format(confusion_matrix(y_test,y_pred_gini)))\n",
    "print('Classification Report : ')\n",
    "print(classification_report(y_test,y_pred_gini))\n",
    "\n",
    "cm = confusion_matrix(y_test, y_pred_gini, labels=model_best_gini.classes_)\n",
    "disp = ConfusionMatrixDisplay(confusion_matrix = cm)\n",
    "disp.plot()\n",
    "plt.show()"
   ]
  },
  {
   "cell_type": "markdown",
   "metadata": {},
   "source": [
    "##### entropy"
   ]
  },
  {
   "cell_type": "code",
   "execution_count": null,
   "metadata": {},
   "outputs": [],
   "source": [
    "#Performance after apply the optimum depth of the tree which using entropy\n",
    "y_pred_entropy= model_best_entropy.predict(X_test_decisiontree)\n",
    "print(model_best_entropy)\n",
    "print('\\nAccuracy : {}'.format(accuracy_score(y_test,y_pred_entropy)))\n",
    "print('Confusion Matrix : \\n{}\\n'.format(confusion_matrix(y_test,y_pred_entropy)))\n",
    "print('Classification Report : ')\n",
    "print(classification_report(y_test,y_pred_entropy))\n",
    "\n",
    "cm = confusion_matrix(y_test, y_pred_entropy, labels=model_best_entropy.classes_)\n",
    "disp = ConfusionMatrixDisplay(confusion_matrix = cm)\n",
    "disp.plot()\n",
    "plt.show()"
   ]
  },
  {
   "cell_type": "code",
   "execution_count": null,
   "metadata": {},
   "outputs": [],
   "source": [
    "# from sklearn.tree import plot_tree,export_text\n",
    "\n",
    "print(export_text(model_best_gini, feature_names=list(X[decisiontree_selected_features].columns)))"
   ]
  },
  {
   "cell_type": "code",
   "execution_count": null,
   "metadata": {
    "scrolled": true
   },
   "outputs": [],
   "source": [
    "plt.figure(figsize=(50,50),dpi=400)\n",
    "plot_tree(model_best_gini, feature_names=list(X[decisiontree_selected_features].columns),fontsize=10)\n",
    "plt.show()"
   ]
  },
  {
   "cell_type": "markdown",
   "metadata": {},
   "source": [
    "##### SVM"
   ]
  },
  {
   "cell_type": "code",
   "execution_count": null,
   "metadata": {},
   "outputs": [],
   "source": [
    "model = SVC(kernel=best_option_svm['kernel'],C=best_option_svm['C'],degree = best_option_svm['degree'])\n",
    "model.fit(X_train_norm_svm,y_train)\n",
    "yhat = model.predict(X_test_svm)\n",
    "\n",
    "print(best_option_svm)\n",
    "print('\\nAccuracy : {}'.format(accuracy_score(y_test, yhat)))\n",
    "print('Confusion Matrix : \\n{}\\n'.format(confusion_matrix(y_test, yhat)))\n",
    "print('Classification Report : ')\n",
    "print(classification_report(y_test, yhat))"
   ]
  },
  {
   "cell_type": "code",
   "execution_count": null,
   "metadata": {},
   "outputs": [],
   "source": [
    "cm = confusion_matrix(y_test, yhat)\n",
    "display = ConfusionMatrixDisplay(confusion_matrix=cm)\n",
    "display.plot(include_values=True, cmap='viridis')"
   ]
  },
  {
   "cell_type": "code",
   "execution_count": null,
   "metadata": {},
   "outputs": [],
   "source": []
  }
 ],
 "metadata": {
  "kernelspec": {
   "display_name": "Python 3 (ipykernel)",
   "language": "python",
   "name": "python3"
  },
  "language_info": {
   "codemirror_mode": {
    "name": "ipython",
    "version": 3
   },
   "file_extension": ".py",
   "mimetype": "text/x-python",
   "name": "python",
   "nbconvert_exporter": "python",
   "pygments_lexer": "ipython3",
   "version": "3.9.7"
  }
 },
 "nbformat": 4,
 "nbformat_minor": 4
}
