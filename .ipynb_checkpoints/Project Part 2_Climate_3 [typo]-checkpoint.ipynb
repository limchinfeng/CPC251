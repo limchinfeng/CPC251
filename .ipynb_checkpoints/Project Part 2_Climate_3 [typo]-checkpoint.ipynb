{
 "cells": [
  {
   "cell_type": "markdown",
   "metadata": {},
   "source": [
    "### Group Information\n",
    "\n",
    "Group No: Climate_3\n",
    "\n",
    "- Member 1: LIM CHIN FENG\n",
    "- Member 2: OOI YONG QIN\n",
    "- Member 3: GWEE PER MING\n",
    "- Member 4: OOI YUE SHENG\n"
   ]
  },
  {
   "cell_type": "markdown",
   "metadata": {},
   "source": [
    "### Import libraries"
   ]
  },
  {
   "cell_type": "code",
   "execution_count": 1,
   "metadata": {},
   "outputs": [],
   "source": [
    "# %pip install mlxtend --upgrade --user"
   ]
  },
  {
   "cell_type": "code",
   "execution_count": 2,
   "metadata": {},
   "outputs": [],
   "source": [
    "# pip install tensorflow"
   ]
  },
  {
   "cell_type": "code",
   "execution_count": 3,
   "metadata": {},
   "outputs": [],
   "source": [
    "%config Completer.use_jedi=False\n",
    "\n",
    "# Import the libraries and modules that will be used in this project\n",
    "import pandas as pd\n",
    "import numpy as np\n",
    "import warnings\n",
    "warnings.filterwarnings('ignore')\n",
    "\n",
    "# library for spliting the data\n",
    "from sklearn.model_selection import train_test_split\n",
    "\n",
    "# library for normalization\n",
    "from sklearn.preprocessing import MinMaxScaler, StandardScaler\n",
    "\n",
    "# library for feature seelction\n",
    "from mlxtend.feature_selection import SequentialFeatureSelector as sfs\n",
    "import matplotlib.pyplot as plt\n",
    "from sklearn.preprocessing import LabelEncoder\n",
    "\n",
    "# library for SVM\n",
    "from sklearn.svm import SVC\n",
    "\n",
    "# library for Neural Network\n",
    "from tensorflow import keras\n",
    "from sklearn.base import BaseEstimator, ClassifierMixin\n",
    "from tensorflow.keras.wrappers.scikit_learn import KerasClassifier\n",
    "from sklearn.model_selection import GridSearchCV\n",
    "\n",
    "from sklearn.metrics import roc_auc_score\n",
    "from sklearn.metrics import accuracy_score,confusion_matrix,classification_report, f1_score\n",
    "from sklearn.metrics import confusion_matrix, ConfusionMatrixDisplay"
   ]
  },
  {
   "cell_type": "markdown",
   "metadata": {},
   "source": [
    "### Load the dataset"
   ]
  },
  {
   "cell_type": "code",
   "execution_count": 4,
   "metadata": {},
   "outputs": [],
   "source": [
    "#read the climate dataset csv file \n",
    "climate = pd.read_csv('climate.csv')"
   ]
  },
  {
   "cell_type": "markdown",
   "metadata": {},
   "source": [
    "### Split the dataset\n",
    "Split the dataset into training, validation and test sets."
   ]
  },
  {
   "cell_type": "code",
   "execution_count": 5,
   "metadata": {},
   "outputs": [],
   "source": [
    "# Sort the dataset to make sure that the training, testing and validation set have the data with different outcome\n",
    "#drop 'Study' and 'Run' column since it is not useful in prediction and they are only for numbering the data\n",
    "\n",
    "climate.sort_values('outcome', inplace=True)\n",
    "col = climate.drop(columns=['outcome','Study','Run']).columns\n",
    "y = climate['outcome']\n",
    "X = climate[col]"
   ]
  },
  {
   "cell_type": "code",
   "execution_count": 6,
   "metadata": {},
   "outputs": [
    {
     "name": "stdout",
     "output_type": "stream",
     "text": [
      "(345, 18)\n",
      "(87, 18)\n",
      "(108, 18)\n"
     ]
    }
   ],
   "source": [
    "# Split the dataset to training set, testing set and validation set with the ratio of 8:2\n",
    "seed_num = 0\n",
    "X_train, X_test, y_train, y_test = train_test_split(X, y, test_size=0.2,random_state=seed_num)\n",
    "X_train,X_val, y_train, y_val = train_test_split(X_train, y_train, test_size=0.2, random_state=seed_num)\n",
    "\n",
    "print(X_train.shape)\n",
    "print(X_val.shape)\n",
    "print(X_test.shape)"
   ]
  },
  {
   "cell_type": "markdown",
   "metadata": {},
   "source": [
    "### Data preprocessing\n",
    "Perform data preprocessing such as normalization, standardization, label encoding etc.\n",
    "______________________________________________________________________________________\n",
    "##### Description: \n",
    "\n",
    "climate.info() is a method that is used to display a concise summary of a DataFrame.\n",
    "For the test set, all the data inside the climate data set is displayed.\n",
    "\n",
    "climate.shape() is used to obtain the size of the array of our data\n",
    "For the test set, the shape of the data is calculated and shown to have in total of 540 rows and 21 columns.\n",
    "\n",
    "\n",
    "Thus, after display and observing the shape of our data. We could clearly observe that all the data are non-null value, which means that we are not required to replace any data manually.\n",
    "\n",
    "Moving on to the next step, we perform normalization on our data using MinMaxScaler.\n",
    "\n",
    "MinMaxScaler is a scaling method that transform the data by subtracting the minimum value of each feature and dividing by the range. For our test set, the minimum value of the feature is scaled to 0 while the maximum value is scaled to 1 and other values would be scaled in between and the result is shown as below."
   ]
  },
  {
   "cell_type": "code",
   "execution_count": 7,
   "metadata": {
    "scrolled": true
   },
   "outputs": [
    {
     "name": "stdout",
     "output_type": "stream",
     "text": [
      "<class 'pandas.core.frame.DataFrame'>\n",
      "Int64Index: 540 entries, 0 to 539\n",
      "Data columns (total 21 columns):\n",
      " #   Column                Non-Null Count  Dtype  \n",
      "---  ------                --------------  -----  \n",
      " 0   Study                 540 non-null    int64  \n",
      " 1   Run                   540 non-null    int64  \n",
      " 2   vconst_corr           540 non-null    float64\n",
      " 3   vconst_2              540 non-null    float64\n",
      " 4   vconst_3              540 non-null    float64\n",
      " 5   vconst_4              540 non-null    float64\n",
      " 6   vconst_5              540 non-null    float64\n",
      " 7   vconst_7              540 non-null    float64\n",
      " 8   ah_corr               540 non-null    float64\n",
      " 9   ah_bolus              540 non-null    float64\n",
      " 10  slm_corr              540 non-null    float64\n",
      " 11  efficiency_factor     540 non-null    float64\n",
      " 12  tidal_mix_max         540 non-null    float64\n",
      " 13  vertical_decay_scale  540 non-null    float64\n",
      " 14  convect_corr          540 non-null    float64\n",
      " 15  bckgrnd_vdc1          540 non-null    float64\n",
      " 16  bckgrnd_vdc_ban       540 non-null    float64\n",
      " 17  bckgrnd_vdc_eq        540 non-null    float64\n",
      " 18  bckgrnd_vdc_psim      540 non-null    float64\n",
      " 19  Prandtl               540 non-null    float64\n",
      " 20  outcome               540 non-null    int64  \n",
      "dtypes: float64(18), int64(3)\n",
      "memory usage: 92.8 KB\n"
     ]
    },
    {
     "data": {
      "text/plain": [
       "(540, 21)"
      ]
     },
     "execution_count": 7,
     "metadata": {},
     "output_type": "execute_result"
    }
   ],
   "source": [
    "# check the information of the climate dataset\n",
    "climate.info()\n",
    "climate.shape"
   ]
  },
  {
   "cell_type": "code",
   "execution_count": 8,
   "metadata": {},
   "outputs": [
    {
     "name": "stdout",
     "output_type": "stream",
     "text": [
      "     vconst_corr  vconst_2  vconst_3  vconst_4  vconst_5  vconst_7   ah_corr  \\\n",
      "0       0.086613  0.569960  0.814199  0.112507  0.571352  0.723524  0.854969   \n",
      "1       0.083660  0.701891  0.412384  0.342099  0.319628  0.732747  0.192892   \n",
      "2       0.488921  0.927233  0.755736  0.872109  0.916482  0.475445  0.384935   \n",
      "3       0.206774  0.855238  0.273855  0.852532  0.717980  0.084972  0.975288   \n",
      "4       0.917343  0.383566  0.582905  0.658446  0.870104  0.660281  0.986264   \n",
      "..           ...       ...       ...       ...       ...       ...       ...   \n",
      "340     0.160832  0.548621  0.151190  0.655261  0.139755  0.798871  0.403534   \n",
      "341     0.076153  0.711244  0.884965  0.121547  0.906154  0.233794  0.364506   \n",
      "342     0.266311  0.081081  0.483240  0.230765  0.825838  0.526178  0.948664   \n",
      "343     0.205391  0.321230  0.615433  0.006624  0.470800  0.383245  0.883003   \n",
      "344     0.864225  0.014840  0.550496  0.131010  0.025591  0.795462  0.758247   \n",
      "\n",
      "     ah_bolus  slm_corr  efficiency_factor  tidal_mix_max  \\\n",
      "0    0.466654  0.069857           0.213653       0.580878   \n",
      "1    0.560615  0.336693           0.317082       0.824216   \n",
      "2    0.908117  0.133074           0.004396       0.019466   \n",
      "3    0.223191  0.255603           0.552208       0.245678   \n",
      "4    0.941592  0.896538           0.865401       0.305998   \n",
      "..        ...       ...                ...            ...   \n",
      "340  0.664859  0.046477           0.577068       0.264562   \n",
      "341  0.784517  0.343415           0.816986       0.712602   \n",
      "342  0.708321  0.030364           0.097404       0.412229   \n",
      "343  0.206692  0.642694           0.178795       0.188137   \n",
      "344  0.481784  0.753439           0.000821       0.532421   \n",
      "\n",
      "     vertical_decay_scale  convect_corr  bckgrnd_vdc1  bckgrnd_vdc_ban  \\\n",
      "0                0.072244      0.972053      0.335533         0.909418   \n",
      "1                0.543670      0.385989      0.837249         0.117528   \n",
      "2                0.056971      0.166858      0.880687         0.230450   \n",
      "3                0.828614      0.682397      0.703574         0.167626   \n",
      "4                0.776493      0.495543      0.357821         0.181352   \n",
      "..                    ...           ...           ...              ...   \n",
      "340              0.961365      0.698534      0.466164         0.637351   \n",
      "341              0.549746      0.852665      0.305216         0.204989   \n",
      "342              0.232554      0.229150      0.658946         0.197413   \n",
      "343              0.108026      0.296312      0.000000         0.130150   \n",
      "344              0.950015      0.573013      0.155784         0.313970   \n",
      "\n",
      "     bckgrnd_vdc_eq  bckgrnd_vdc_psim   Prandtl  \n",
      "0          0.838905          0.792927  0.722833  \n",
      "1          0.478581          0.524120  0.355627  \n",
      "2          0.392854          0.666147  0.009978  \n",
      "3          0.786029          0.003877  0.499102  \n",
      "4          0.344689          0.228947  0.221405  \n",
      "..              ...               ...       ...  \n",
      "340        0.008549          0.147240  0.213860  \n",
      "341        0.646541          0.883874  0.753073  \n",
      "342        0.988164          0.476191  0.881397  \n",
      "343        0.096135          0.707915  0.155079  \n",
      "344        0.333421          0.650062  0.091316  \n",
      "\n",
      "[345 rows x 18 columns]\n"
     ]
    }
   ],
   "source": [
    "#Normalized the data by using MinMaxScaler\n",
    "\n",
    "# normalize the data\n",
    "scaler = MinMaxScaler() # normalize data 0-1\n",
    "X_train_norm = scaler.fit_transform(X_train)\n",
    "X_test_norm = scaler.transform(X_test)\n",
    "X_val_norm = scaler.transform(X_val)\n",
    "\n",
    "# convert X_train_norm, X_test_norm, X_val_norm to a Pandas DataFrame\n",
    "X_train_norm = pd.DataFrame(X_train_norm, columns=X_train.columns)\n",
    "X_test_norm = pd.DataFrame(X_test_norm, columns=X_test.columns)\n",
    "X_val_norm = pd.DataFrame(X_val_norm, columns=X_val.columns)\n",
    "\n",
    "print(X_train_norm)"
   ]
  },
  {
   "cell_type": "markdown",
   "metadata": {},
   "source": [
    "### Feature Selection\n",
    "Perform feature selection to select the relevant features.\n",
    "______________________________________________________________________________________\n",
    "##### Description:\n",
    "Correlation can be referred as the statistical relationship between two variables. The range of measuring correlation coefficient is between 1 and -1, thus it is best for us to find the correlation value that is close to 0, indicating a weak linear relationship between the variables. \n",
    "A column with a correlation coefficient that is larger than 0.8 would be dropped.\n",
    "\n",
    "col=correlation(X_train_norm,0.8)\n",
    "\n",
    "From the test set, we search for any columns in the dataset that had a correlation coefficient that is higher than 0.8.\n",
    "As a result, no columns in our data had a correlation coefficient that is higher than 0.8.\n",
    "\n",
    "Moving on, feature selection is performed on the data. We used <b>correlation-based feature selection for Neural Network</b> and <b>forward sequential feature selection for SVM model</b>. Correlation-based feature selection is a technique to choose the highest correlation features which could strongly influence on the target varaible. Sequential feature selection (SFS) is a technique for filtering a subset of features from a large set of features in the dataset. The purpose of feature selection is to choosing the most important features and improve the performance of the model. The word \"Forward\" in Forward sequential feature selection refers to the forward direction in which the features are selected.\n",
    "\n",
    "By applying correlation-based feature selection on <b>neural network</b>, the columns that are selected are \n",
    "- vconst_corr', 'vconst_2', 'convect_corr', 'bckgrnd_vdc1', 'bckgrnd_vdc_eq', 'vconst_4', 'bckgrnd_vdc_psim', 'vconst_5', 'slm_corr', 'vconst_7'\n",
    "\n",
    "On the other hand, by applying forward SFS on <b>SVM</b>, the columns that are selected are \n",
    "- 'vconst_corr', 'vconst_2', 'slm_corr', 'efficiency_factor', 'vertical_decay_scale', 'convect_corr', 'bckgrnd_vdc1'and 'bckgrnd_vdc_eq'."
   ]
  },
  {
   "cell_type": "code",
   "execution_count": 9,
   "metadata": {},
   "outputs": [
    {
     "name": "stdout",
     "output_type": "stream",
     "text": [
      "No columns that are hightly correlated with each others\n"
     ]
    }
   ],
   "source": [
    "#drop highly correlated columns by finding the column which correlation coefficient > 0.8 \n",
    "def correlation(dataset,threshold):\n",
    "    col_corr=set()\n",
    "    corr_matrix=pd.DataFrame(dataset).corr() \n",
    "    for i in range(len(corr_matrix.columns)): \n",
    "        for j in range(i):\n",
    "            if abs(corr_matrix.iloc[i,j])>threshold: \n",
    "                colName=corr_matrix.columns[i] \n",
    "                col_corr.add(colName) \n",
    "    return col_corr \n",
    "\n",
    "col=correlation(X_train_norm,0.8)\n",
    "if (len(col) == 0):\n",
    "    print('No columns that are hightly correlated with each others')\n",
    "else:\n",
    "    print('Correlated columns:',col)  \n",
    "    "
   ]
  },
  {
   "cell_type": "markdown",
   "metadata": {},
   "source": [
    "#### Feature Selection for Neuron Network"
   ]
  },
  {
   "cell_type": "code",
   "execution_count": 10,
   "metadata": {},
   "outputs": [
    {
     "data": {
      "image/png": "[encoded data removed]",
      "text/plain": [
       "<Figure size 432x288 with 1 Axes>"
      ]
     },
     "metadata": {
      "needs_background": "light"
     },
     "output_type": "display_data"
    }
   ],
   "source": [
    "#Feature Selection - correlation-based feature selection\n",
    "\n",
    "# Copy the feature matrix to a new variable\n",
    "X_featureSelectionNN = X\n",
    "\n",
    "# Create a copy of the feature matrix with the target variable added\n",
    "completeData = X_featureSelectionNN.copy()\n",
    "completeData['outcome'] = y\n",
    "\n",
    "# Calculate the correlation between each feature and the target variable\n",
    "features = completeData.drop('outcome', axis=1).apply(lambda x: x.corr(completeData.outcome))\n",
    "\n",
    "# Sort the features based on their absolute correlation values\n",
    "index = np.argsort(np.abs(features))\n",
    "\n",
    "# Get the column names of the original feature matrix\n",
    "cols = X_featureSelectionNN.columns\n",
    "\n",
    "# Plot a bar chart to visualize the relative importance of features\n",
    "plt.barh(range(len(index)), np.abs(features[index]), color='red', align='center')\n",
    "plt.yticks(range(len(index)), [cols[i] for i in index])\n",
    "plt.xlabel('Relative Importance of Features')\n",
    "plt.ylabel('Features')\n",
    "plt.rcParams['figure.figsize'] = (12, 4)\n",
    "plt.show()"
   ]
  },
  {
   "cell_type": "code",
   "execution_count": 11,
   "metadata": {},
   "outputs": [
    {
     "name": "stdout",
     "output_type": "stream",
     "text": [
      "Index(['vconst_corr', 'vconst_2', 'convect_corr', 'bckgrnd_vdc1',\n",
      "       'bckgrnd_vdc_eq', 'vconst_4', 'bckgrnd_vdc_psim', 'vconst_5',\n",
      "       'slm_corr', 'vconst_7'],\n",
      "      dtype='object')\n"
     ]
    }
   ],
   "source": [
    "#Select the top 10 most relatively important features for neural network\n",
    "selected_features_nn = np.abs(features[index[8:18]])\n",
    "selected_features_nn = selected_features_nn.sort_values(ascending = False)\n",
    "print(selected_features_nn.index)"
   ]
  },
  {
   "cell_type": "markdown",
   "metadata": {},
   "source": [
    "#### Feature Selection for SVM"
   ]
  },
  {
   "cell_type": "code",
   "execution_count": 12,
   "metadata": {},
   "outputs": [
    {
     "name": "stderr",
     "output_type": "stream",
     "text": [
      "[Parallel(n_jobs=1)]: Using backend SequentialBackend with 1 concurrent workers.\n",
      "[Parallel(n_jobs=1)]: Done   1 out of   1 | elapsed:    0.0s remaining:    0.0s\n",
      "[Parallel(n_jobs=1)]: Done  18 out of  18 | elapsed:    0.0s finished\n",
      "\n",
      "[2023-07-06 14:55:33] Features: 1/18 -- score: 0.9130427476811399[Parallel(n_jobs=1)]: Using backend SequentialBackend with 1 concurrent workers.\n",
      "[Parallel(n_jobs=1)]: Done   1 out of   1 | elapsed:    0.0s remaining:    0.0s\n",
      "[Parallel(n_jobs=1)]: Done  17 out of  17 | elapsed:    0.0s finished\n",
      "\n",
      "[2023-07-06 14:55:33] Features: 2/18 -- score: 0.915949724425326[Parallel(n_jobs=1)]: Using backend SequentialBackend with 1 concurrent workers.\n",
      "[Parallel(n_jobs=1)]: Done   1 out of   1 | elapsed:    0.0s remaining:    0.0s\n",
      "[Parallel(n_jobs=1)]: Done  16 out of  16 | elapsed:    0.0s finished\n",
      "\n",
      "[2023-07-06 14:55:33] Features: 3/18 -- score: 0.9391215217099073[Parallel(n_jobs=1)]: Using backend SequentialBackend with 1 concurrent workers.\n",
      "[Parallel(n_jobs=1)]: Done   1 out of   1 | elapsed:    0.0s remaining:    0.0s\n",
      "[Parallel(n_jobs=1)]: Done  15 out of  15 | elapsed:    0.0s finished\n",
      "\n",
      "[2023-07-06 14:55:33] Features: 4/18 -- score: 0.944885065196935[Parallel(n_jobs=1)]: Using backend SequentialBackend with 1 concurrent workers.\n",
      "[Parallel(n_jobs=1)]: Done   1 out of   1 | elapsed:    0.0s remaining:    0.0s\n",
      "[Parallel(n_jobs=1)]: Done  14 out of  14 | elapsed:    0.0s finished\n",
      "\n",
      "[2023-07-06 14:55:33] Features: 5/18 -- score: 0.9420284984540933[Parallel(n_jobs=1)]: Using backend SequentialBackend with 1 concurrent workers.\n",
      "[Parallel(n_jobs=1)]: Done   1 out of   1 | elapsed:    0.0s remaining:    0.0s\n",
      "[Parallel(n_jobs=1)]: Done  13 out of  13 | elapsed:    0.0s finished\n",
      "\n",
      "[2023-07-06 14:55:33] Features: 6/18 -- score: 0.9507326253528701[Parallel(n_jobs=1)]: Using backend SequentialBackend with 1 concurrent workers.\n",
      "[Parallel(n_jobs=1)]: Done   1 out of   1 | elapsed:    0.0s remaining:    0.0s\n",
      "[Parallel(n_jobs=1)]: Done  12 out of  12 | elapsed:    0.0s finished\n",
      "\n",
      "[2023-07-06 14:55:33] Features: 7/18 -- score: 0.96231012232827[Parallel(n_jobs=1)]: Using backend SequentialBackend with 1 concurrent workers.\n",
      "[Parallel(n_jobs=1)]: Done   1 out of   1 | elapsed:    0.0s remaining:    0.0s\n",
      "[Parallel(n_jobs=1)]: Done  11 out of  11 | elapsed:    0.0s finished\n",
      "\n",
      "[2023-07-06 14:55:33] Features: 8/18 -- score: 0.9652002957386745[Parallel(n_jobs=1)]: Using backend SequentialBackend with 1 concurrent workers.\n",
      "[Parallel(n_jobs=1)]: Done   1 out of   1 | elapsed:    0.0s remaining:    0.0s\n",
      "[Parallel(n_jobs=1)]: Done  10 out of  10 | elapsed:    0.0s finished\n",
      "\n",
      "[2023-07-06 14:55:33] Features: 9/18 -- score: 0.9652002957386745[Parallel(n_jobs=1)]: Using backend SequentialBackend with 1 concurrent workers.\n",
      "[Parallel(n_jobs=1)]: Done   1 out of   1 | elapsed:    0.0s remaining:    0.0s\n",
      "[Parallel(n_jobs=1)]: Done   9 out of   9 | elapsed:    0.0s finished\n",
      "\n",
      "[2023-07-06 14:55:33] Features: 10/18 -- score: 0.9564961688398979[Parallel(n_jobs=1)]: Using backend SequentialBackend with 1 concurrent workers.\n",
      "[Parallel(n_jobs=1)]: Done   1 out of   1 | elapsed:    0.0s remaining:    0.0s\n",
      "[Parallel(n_jobs=1)]: Done   8 out of   8 | elapsed:    0.0s finished\n",
      "\n",
      "[2023-07-06 14:55:33] Features: 11/18 -- score: 0.9536059954294932[Parallel(n_jobs=1)]: Using backend SequentialBackend with 1 concurrent workers.\n",
      "[Parallel(n_jobs=1)]: Done   1 out of   1 | elapsed:    0.0s remaining:    0.0s\n",
      "[Parallel(n_jobs=1)]: Done   7 out of   7 | elapsed:    0.0s finished\n",
      "\n",
      "[2023-07-06 14:55:33] Features: 12/18 -- score: 0.947825648608684[Parallel(n_jobs=1)]: Using backend SequentialBackend with 1 concurrent workers.\n",
      "[Parallel(n_jobs=1)]: Done   1 out of   1 | elapsed:    0.0s remaining:    0.0s\n",
      "[Parallel(n_jobs=1)]: Done   6 out of   6 | elapsed:    0.0s finished\n",
      "\n",
      "[2023-07-06 14:55:33] Features: 13/18 -- score: 0.9594199489178653[Parallel(n_jobs=1)]: Using backend SequentialBackend with 1 concurrent workers.\n",
      "[Parallel(n_jobs=1)]: Done   1 out of   1 | elapsed:    0.0s remaining:    0.0s\n",
      "[Parallel(n_jobs=1)]: Done   5 out of   5 | elapsed:    0.0s finished\n",
      "\n",
      "[2023-07-06 14:55:33] Features: 14/18 -- score: 0.9478088452749025[Parallel(n_jobs=1)]: Using backend SequentialBackend with 1 concurrent workers.\n",
      "[Parallel(n_jobs=1)]: Done   1 out of   1 | elapsed:    0.0s remaining:    0.0s\n",
      "[Parallel(n_jobs=1)]: Done   4 out of   4 | elapsed:    0.0s finished\n",
      "\n",
      "[2023-07-06 14:55:34] Features: 15/18 -- score: 0.9536059954294932[Parallel(n_jobs=1)]: Using backend SequentialBackend with 1 concurrent workers.\n",
      "[Parallel(n_jobs=1)]: Done   1 out of   1 | elapsed:    0.0s remaining:    0.0s\n",
      "[Parallel(n_jobs=1)]: Done   3 out of   3 | elapsed:    0.0s finished\n",
      "\n",
      "[2023-07-06 14:55:34] Features: 16/18 -- score: 0.947825648608684[Parallel(n_jobs=1)]: Using backend SequentialBackend with 1 concurrent workers.\n",
      "[Parallel(n_jobs=1)]: Done   1 out of   1 | elapsed:    0.0s remaining:    0.0s\n",
      "[Parallel(n_jobs=1)]: Done   2 out of   2 | elapsed:    0.0s finished\n",
      "\n",
      "[2023-07-06 14:55:34] Features: 17/18 -- score: 0.9391215217099073[Parallel(n_jobs=1)]: Using backend SequentialBackend with 1 concurrent workers.\n",
      "[Parallel(n_jobs=1)]: Done   1 out of   1 | elapsed:    0.0s remaining:    0.0s\n",
      "[Parallel(n_jobs=1)]: Done   1 out of   1 | elapsed:    0.0s finished\n",
      "\n",
      "[2023-07-06 14:55:34] Features: 18/18 -- score: 0.9275440247345073"
     ]
    },
    {
     "data": {
      "text/plain": [
       "Index(['vconst_corr', 'vconst_2', 'slm_corr', 'efficiency_factor',\n",
       "       'vertical_decay_scale', 'convect_corr', 'bckgrnd_vdc1',\n",
       "       'bckgrnd_vdc_eq'],\n",
       "      dtype='object')"
      ]
     },
     "execution_count": 12,
     "metadata": {},
     "output_type": "execute_result"
    }
   ],
   "source": [
    "from mlxtend.feature_selection import SequentialFeatureSelector as sfs\n",
    "from sklearn.svm import SVC\n",
    "\n",
    "#Sequential Feature Selector (SFS) to perform feature selection with a SVM classifier .\n",
    "feature_selector_svm = sfs(SVC(kernel='poly', degree=2, gamma='scale', coef0=1, C=5, random_state=seed_num), k_features=(5,len(X_train.columns)), forward=True, floating=False, verbose=2, scoring='accuracy', cv=2)\n",
    "sfs = feature_selector_svm.fit(X_train_norm, y_train)\n",
    "selected_features_svm =X_train_norm.columns[list(sfs.k_feature_idx_)]\n",
    "selected_features_svm"
   ]
  },
  {
   "cell_type": "code",
   "execution_count": 13,
   "metadata": {},
   "outputs": [],
   "source": [
    "# the selected features for SVM using Sequential Feature Selector \n",
    "selected_features_svm =  ['vconst_corr', 'vconst_2', 'slm_corr', 'efficiency_factor',\n",
    "       'vertical_decay_scale', 'convect_corr', 'bckgrnd_vdc1',\n",
    "       'bckgrnd_vdc_eq']"
   ]
  },
  {
   "cell_type": "markdown",
   "metadata": {},
   "source": [
    "### Data modeling\n",
    "Build the machine learning models. You must build atleast two (2) predictive models. One of the predictive models must be either Neural Network or Fuzzy Logic System.\n",
    "______________________________________________________________________________________\n",
    "##### Description:\n",
    "\n",
    "For data modeling, we will be doing neural network and SVM.\n",
    "\n",
    "For neural network, the first step we perform is inserting the features that we selected previously using correlation-based feature selection into X_train_norm_nn, X_val_norm_nn and X_test_norm_nn. \n",
    "After building the model, the best result for neural network is\n",
    "- 128 Hidden units \n",
    "- tanh as Activation\n",
    "- Adam as Optimizer\n",
    "\n",
    "\n",
    "<br><br>\n",
    "\n",
    "Moving on to <b>SVM</b>, the first step we perform is inserting the features that we selected using forward sequential feature selection into X_train_norm_svm , X_val_norm_svm and X_test_norm_svm. For finding the best SVM model, the 4 features that we are mainly looking for would be the kernel, C value, weighted average f1 score and the degree of the model.\n",
    "After building the model, the best result of the model would be the\n",
    "- poly kernel\n",
    "- a regularization parameter 'C' set to 3\n",
    "- weighted average f1 score of the model would be 0.951440419030991 and the degree of 2."
   ]
  },
  {
   "cell_type": "markdown",
   "metadata": {},
   "source": [
    "#### Data modeling for Neural Network"
   ]
  },
  {
   "cell_type": "code",
   "execution_count": 14,
   "metadata": {},
   "outputs": [],
   "source": [
    "# Use the features selected by the Correlation-based Feature Selection\n",
    "X_train_norm_nn = X_train_norm[selected_features_nn.index]\n",
    "X_val_norm_nn = X_val_norm[selected_features_nn.index]\n",
    "X_test_norm_nn = X_test_norm[selected_features_nn.index]"
   ]
  },
  {
   "cell_type": "code",
   "execution_count": 15,
   "metadata": {},
   "outputs": [
    {
     "name": "stdout",
     "output_type": "stream",
     "text": [
      "Best Model Hidden Units: 128\n",
      "Best Model Activation: tanh\n",
      "Best Model Optimizer: Adam\n"
     ]
    }
   ],
   "source": [
    "# Define the parameter grid for grid search\n",
    "param_grid = {\n",
    "    'hidden_units': [(64,), (128,), (64, 32), (128, 64)],\n",
    "    'activation': ['relu', 'tanh'],\n",
    "    'optimizer': ['adam', 'sgd'],\n",
    "}\n",
    "\n",
    "# Create the model\n",
    "def create_model(hidden_units, activation, optimizer):\n",
    "    model = keras.Sequential()\n",
    "    model.add(keras.layers.Dense(hidden_units[0], activation=activation, input_shape=(X_train_norm_nn.shape[1],)))\n",
    "\n",
    "    if len(hidden_units) > 1:\n",
    "        for units in hidden_units[1:]:\n",
    "            model.add(keras.layers.Dense(units, activation=activation))\n",
    "\n",
    "    model.add(keras.layers.Dense(1, activation='sigmoid'))\n",
    "    model.compile(optimizer=optimizer, loss='binary_crossentropy', metrics=['accuracy'])\n",
    "    return model\n",
    "\n",
    "# Wrap the Keras model in a scikit-learn estimator\n",
    "model_nn = keras.wrappers.scikit_learn.KerasClassifier(build_fn=create_model, epochs=10, batch_size=32, verbose=0)\n",
    "\n",
    "# Perform grid search\n",
    "grid_search = GridSearchCV(model_nn, param_grid, cv=3, error_score='raise')\n",
    "grid_search.fit(X_train_norm_nn, y_train)\n",
    "\n",
    "# Get the best model and its performance\n",
    "best_model_nn = grid_search.best_estimator_\n",
    "\n",
    "# Print the best model's hidden units, activation, and optimizer\n",
    "print(\"Best Model Hidden Units:\", best_model_nn.model.layers[0].units)\n",
    "print(\"Best Model Activation:\", best_model_nn.model.layers[0].activation.__name__)\n",
    "print(\"Best Model Optimizer:\", best_model_nn.model.optimizer.__class__.__name__)"
   ]
  },
  {
   "cell_type": "markdown",
   "metadata": {},
   "source": [
    "#### Data modeling for SVM"
   ]
  },
  {
   "cell_type": "code",
   "execution_count": 16,
   "metadata": {},
   "outputs": [
    {
     "name": "stdout",
     "output_type": "stream",
     "text": [
      "['vconst_corr', 'vconst_2', 'slm_corr', 'efficiency_factor', 'vertical_decay_scale', 'convect_corr', 'bckgrnd_vdc1', 'bckgrnd_vdc_eq']\n"
     ]
    }
   ],
   "source": [
    "# Use the features selected by the Forward Sequential Feature Selection with a Support Vector Machine (SVM) classifier.\n",
    "selected_features_svm = list(selected_features_svm)\n",
    "print(selected_features_svm)\n",
    "X_train_norm_svm = X_train_norm[selected_features_svm]\n",
    "X_val_norm_svm = X_val_norm[selected_features_svm]\n",
    "X_test_norm_svm = X_test_norm[selected_features_svm]"
   ]
  },
  {
   "cell_type": "code",
   "execution_count": 17,
   "metadata": {},
   "outputs": [
    {
     "name": "stdout",
     "output_type": "stream",
     "text": [
      "\n",
      "Best SVM kernel and its details:\n"
     ]
    },
    {
     "data": {
      "text/plain": [
       "{'kernel': 'poly',\n",
       " 'C': 3,\n",
       " 'weighted avg f1-score': 0.951440419030991,\n",
       " 'degree': 2}"
      ]
     },
     "execution_count": 17,
     "metadata": {},
     "output_type": "execute_result"
    }
   ],
   "source": [
    "# Determine the the best kernel with C-value\n",
    "\n",
    "kernel = ['linear', 'poly', 'rbf', 'sigmoid']\n",
    "best_option_svm = {'kernel': None ,\n",
    "                    'C': 0,\n",
    "                    'weighted avg f1-score': 0,\n",
    "                    'degree': 0\n",
    "                    }\n",
    "\n",
    "# repeatly test different kernel with different C value ranging from 1 to 10\n",
    "for kernel in kernel:\n",
    "    # len(X_train.columns)+2 is used as max so that the degree can reach until (no. of features + 1) dimensions\n",
    "    max_degree = len(X_train_norm_svm.columns)+2 if kernel == 'poly' else 1\n",
    "\n",
    "    # print statement below is used for debugging\n",
    "    # print(kernel)\n",
    "    \n",
    "    for degree in range(1,max_degree):\n",
    "        for c in range(1,11):\n",
    "            # print statement below is used for debugging\n",
    "            # print('Degree: {} \\t C: {}\\n'.format(degree,c))\n",
    "\n",
    "            svm = SVC(kernel=kernel, C=c,degree=degree)\n",
    "            svm.fit(X_train_norm_svm, y_train)\n",
    "            yhat = svm.predict(X_val_norm_svm)\n",
    "            f1 = f1_score(y_val, yhat, average='weighted')\n",
    "            # using weighted average f1-score to find the best option instead of accuracy due to imbalance of classes\n",
    "            if f1 > best_option_svm['weighted avg f1-score']:\n",
    "                best_option_svm['kernel'] = kernel\n",
    "                best_option_svm['C'] = c\n",
    "                best_option_svm['weighted avg f1-score'] = f1\n",
    "                best_option_svm['degree'] = (degree if kernel == 'poly' else None)\n",
    "\n",
    "#Display the best kernel with the best C-value\n",
    "print(\"\\nBest SVM kernel and its details:\")\n",
    "best_option_svm"
   ]
  },
  {
   "cell_type": "markdown",
   "metadata": {},
   "source": [
    "### Evaluate the models\n",
    "Perform a comparison between the predictive models. <br>\n",
    "Report the accuracy, recall, precision and F1-score measures as well as the confusion matrix if it is a classification problem. <br>\n",
    "Report the R2 score, mean squared error and mean absolute error if it is a regression problem.\n",
    "______________________________________________________________________________________\n",
    "##### Description: At the bottommost part, comparison is done after model performance evaluation\n",
    "\n",
    "<br><br>"
   ]
  },
  {
   "cell_type": "markdown",
   "metadata": {},
   "source": [
    "##### Neural Network"
   ]
  },
  {
   "cell_type": "code",
   "execution_count": 18,
   "metadata": {},
   "outputs": [
    {
     "name": "stdout",
     "output_type": "stream",
     "text": [
      "4/4 [==============================] - 0s 1ms/step\n",
      "\n",
      "Accuracy : 0.9629629629629629\n",
      "Confusion Matrix : \n",
      "[[  4   3]\n",
      " [  1 100]]\n",
      "\n",
      "Classification Report : \n",
      "              precision    recall  f1-score   support\n",
      "\n",
      "           0       0.80      0.57      0.67         7\n",
      "           1       0.97      0.99      0.98       101\n",
      "\n",
      "    accuracy                           0.96       108\n",
      "   macro avg       0.89      0.78      0.82       108\n",
      "weighted avg       0.96      0.96      0.96       108\n",
      "\n",
      "\n",
      "Confusion Matrix of Neural Network\n"
     ]
    },
    {
     "data": {
      "image/png": "[encoded data removed]",
      "text/plain": [
       "<Figure size 864x288 with 2 Axes>"
      ]
     },
     "metadata": {
      "needs_background": "light"
     },
     "output_type": "display_data"
    }
   ],
   "source": [
    "# Performance after applying the best hidden units(Polynomial), activation(tanh) and optimizer(Adam) \n",
    "yhat_nn = best_model_nn.predict(X_test_norm_nn)\n",
    "\n",
    "# determine the class (0 or 1)\n",
    "yhat_nn = (yhat_nn > 0.5).astype(int)\n",
    "\n",
    "print('\\nAccuracy : {}'.format(accuracy_score(y_test, yhat_nn)))\n",
    "print('Confusion Matrix : \\n{}\\n'.format(confusion_matrix(y_test, yhat_nn)))\n",
    "print('Classification Report : ')\n",
    "print(classification_report(y_test, yhat_nn))\n",
    "\n",
    "\n",
    "cm = confusion_matrix(y_test, yhat_nn)\n",
    "display = ConfusionMatrixDisplay(confusion_matrix=cm)\n",
    "display.plot(include_values=True, cmap='viridis')\n",
    "print('\\nConfusion Matrix of Neural Network')"
   ]
  },
  {
   "cell_type": "markdown",
   "metadata": {},
   "source": [
    "##### SVM"
   ]
  },
  {
   "cell_type": "code",
   "execution_count": 19,
   "metadata": {},
   "outputs": [
    {
     "name": "stdout",
     "output_type": "stream",
     "text": [
      "{'kernel': 'poly', 'C': 3, 'weighted avg f1-score': 0.951440419030991, 'degree': 2}\n",
      "\n",
      "Accuracy : 0.9629629629629629\n",
      "Confusion Matrix : \n",
      "[[ 5  2]\n",
      " [ 2 99]]\n",
      "\n",
      "Classification Report : \n",
      "              precision    recall  f1-score   support\n",
      "\n",
      "           0       0.71      0.71      0.71         7\n",
      "           1       0.98      0.98      0.98       101\n",
      "\n",
      "    accuracy                           0.96       108\n",
      "   macro avg       0.85      0.85      0.85       108\n",
      "weighted avg       0.96      0.96      0.96       108\n",
      "\n",
      "\n",
      "Confusion Matrix of SVM: Poly with C=3\n"
     ]
    },
    {
     "data": {
      "image/png": "[encoded data removed]",
      "text/plain": [
       "<Figure size 864x288 with 2 Axes>"
      ]
     },
     "metadata": {
      "needs_background": "light"
     },
     "output_type": "display_data"
    }
   ],
   "source": [
    "#Performance after apply the best kernel(Polynomial) with the best C-value(3)\n",
    "model = SVC(kernel=best_option_svm['kernel'], C=best_option_svm['C'], degree=best_option_svm['degree'])\n",
    "model.fit(X_train_norm_svm, y_train)\n",
    "yhat_svm = model.predict(X_test_norm_svm)\n",
    "\n",
    "print(best_option_svm)\n",
    "print('\\nAccuracy : {}'.format(accuracy_score(y_test, yhat_svm)))\n",
    "print('Confusion Matrix : \\n{}\\n'.format(confusion_matrix(y_test, yhat_svm)))\n",
    "print('Classification Report : ')\n",
    "print(classification_report(y_test, yhat_svm))\n",
    "\n",
    "cm = confusion_matrix(y_test, yhat_svm)\n",
    "display = ConfusionMatrixDisplay(confusion_matrix=cm)\n",
    "display.plot(include_values=True, cmap='viridis')\n",
    "print('\\nConfusion Matrix of SVM: Poly with C=3')"
   ]
  },
  {
   "cell_type": "markdown",
   "metadata": {},
   "source": [
    "### <u>Comparison</u>"
   ]
  },
  {
   "cell_type": "markdown",
   "metadata": {},
   "source": [
    "##### Description:\n",
    "\n",
    "For this project, we built 2 models, which are Neural Network and SVM.\n",
    "\n",
    "\n",
    "###### Nueral Network\n",
    "\n",
    "- The <b> accuracy of the Neural Network model is 0.9629629629629629 </b> \n",
    "\n",
    "- The confusion matrix shows the number of true positives (100), true negatives (4), false positives (3), and false negatives (1).\n",
    "<b>\n",
    "    [[ 4  3] <br>\n",
    "     [ 1 100]] <br><br>\n",
    "</b>\n",
    "- For the classification report, the precision for class 0 and 1 would be 0.80 and 0.97 respectively. The recall value for class 0 and class 1 would be 0.57 and 0.99 respectively. The F1-score value for class 0 and class 1 would be 0.67 and 0.98 respectively. The support value for class 0 and class 1 would be 7 and 101 respectively.\n",
    "\n",
    "- The accuracy of the model would be 0.96. For the macro average, the precision score is 0.89, the recall value is 0.78 and the F1-score is 0.82. For the weighted average, the precision score is 0.96, the recall value is 0.96 and the F1-score is 0.96.Besides, the support value of the model would be 108 in these 3 cases, which are accuracy,macro average, and weighted average.\n",
    "\n",
    "\n",
    "______________________________________________________________________________________\n",
    "\n",
    "###### SVM\n",
    "- For SVM, the best model was trained using the 'polynomial' kernel with a regularization parameter 'C' set to 3.\n",
    "\n",
    "- The <b>accuracy of the SVM model is 0.9629629629629629</b>\n",
    "\n",
    "- The confusion matrix shows the number of true positives (99), true negatives (5), false positives (2), and false negatives (2).\n",
    "<b> \n",
    "    [[ 5  2] <br>\n",
    "     [ 2 99]]<br><br>\n",
    "</b> \n",
    "\n",
    "- For the classification report, the precision for class 0 and 1 would be 0.71 and 0.98 respectively. The recall value for class 0 and class 1 would be 0.71 and 0.98 respectively. The F1-score value for class 0 and class 1 would be 0.71 and 0.98 respectively. The support value for class 0 and class 1 would be 7 and 101 respectively.\n",
    "\n",
    "\n",
    "- The accuracy of the model would be 0.96. For the macro average, the precision score is 0.85, the recall value is 0.85 and the F1-score is 0.85. For the weighted average, the precision score is 0.96, the recall value is 0.96 and the F1-score is 0.96.Besides, the support value of the model would be 108 in these 3 cases, which are accuracy,macro average, and weighted average.\n",
    "\n",
    "______________________________________________________________________________________\n",
    "\n",
    "##### Comparision Between Neural Network and SVM  \n",
    "\n",
    "In comparison between the Neural Network and SVM models, the <b>best model would be the SVM model</b> This is because the SVM had:\n",
    "- same accuracy(0.963) when compared to Neural Network(0.963)\n",
    "- a higher number of true negative (5) than Neural Network(4)\n",
    "- a lower number of false positive (2) than Decision Tree(3)\n",
    "\n",
    "\n",
    "        Average, true positive, true negative, false negative and false positive:\n",
    "<table>\n",
    "<tr>\n",
    "<th >Model</th>\n",
    "<th>Accuracy</th>\n",
    "<th>True Positive</th>\n",
    "<th>True Negative</th>\n",
    "<th>False Positive</th>\n",
    "<th>False Negative</th>\n",
    "</tr>\n",
    "<tr>\n",
    "<td>SVM</td>\n",
    "<td>0.963</td>\n",
    "<td>99</td>\n",
    "<td>5</td>\n",
    "<td>2</td>\n",
    "<td>2</td>\n",
    "</tr>\n",
    "<tr>\n",
    "<td>Neural Network</td>\n",
    "<td>0.963</td>\n",
    "<td>100</td>\n",
    "<td>4</td>\n",
    "<td>3</td>\n",
    "<td>1</td>\n",
    "</tr>\n",
    "\n",
    "</table>       \n",
    "        \n",
    "\n",
    "\n",
    "- SVM shows a higher recall and F1-Score for class 0 compared to Neural Network. The table below shows the Precision, Recall, and F1-Score of SVM and Neural Network for Class 0 :\n",
    "\n",
    "        Precision, Recall, and F1-Score for Class 0:\n",
    "<table>\n",
    "<tr>\n",
    "<th  style=\"width:50%\" >Model</th>\n",
    "<th>Precision</th>\n",
    "<th>Recall</th>\n",
    "<th>F1-Score</th>\n",
    "</tr>\n",
    "<tr>\n",
    "<td  style=\"width:50%\">SVM</td>\n",
    "<td>0.71</td>\n",
    "<td>0.71</td>\n",
    "<td>0.71</td>\n",
    "</tr>\n",
    "<tr>\n",
    "<td  style=\"width:50%\">Neural Network</td>\n",
    "<td>0.80</td>\n",
    "<td>0.57</td>\n",
    "<td>0.67</td>    \n",
    "</tr>\n",
    "</table>\n",
    "\n",
    "- SVM scored a slight higher precision and equal F1-Score for class 1 when compared to Neural Network.The table below shows the Precision, Recall, and F1-Score of SVM and Neural Network for Class 1 :\n",
    "\n",
    "        Precision, Recall, and F1-Score for Class 1:\n",
    "\n",
    "<table>\n",
    "<tr>\n",
    "<th  style=\"width:50%\" >Model</th>\n",
    "<th>Precision</th>\n",
    "<th>Recall</th>\n",
    "<th>F1-Score</th>\n",
    "</tr>\n",
    "<tr>\n",
    "<td  style=\"width:50%\">SVM</td>\n",
    "<td>0.98</td>\n",
    "<td>0.98</td>\n",
    "<td>0.98</td>\n",
    "</tr>\n",
    "<tr>\n",
    "<td  style=\"width:50%\">Neural Network</td>\n",
    "<td>0.97</td>\n",
    "<td>0.99</td>\n",
    "<td>0.98</td>    \n",
    "</tr>\n",
    "</table>\n",
    "\n",
    "- SVM demonstrate a higher macro average and weighted average of Recall and F1-score when compared to Neural Network. The table below shows the Macro Average Recall,Macro Average F1-Score,Weighted Average Recall,Weighted Average F1-Score of SVM and Neural Network:\n",
    "\n",
    "         Macro Average F1-Score and Weighted Average F1-Score:\n",
    "<table>\n",
    "<tr>\n",
    "<th  style=\"width:30%\" >Model</th>\n",
    "<th>Macro Avg Recall</th>\n",
    "<th>Macro Avg F1-Score</th>\n",
    "<th>Weighted Avg Recall</th>\n",
    "<th>Weighted Avg F1-Score</th>\n",
    "</tr>\n",
    "<tr>\n",
    "<td  style=\"width:30%\">SVM</td>\n",
    "<td>0.85</td>\n",
    "<td>0.96</td>\n",
    "<td>0.85</td>\n",
    "<td>0.96</td>\n",
    "</tr>\n",
    "<tr>\n",
    "<td  style=\"width:30%\">Neural Network</td>\n",
    "<td>0.78</td>\n",
    "<td>0.96</td>\n",
    "<td>0.82</td>\n",
    "<td>0.96</td> \n",
    "</tr>\n",
    "</table>\n",
    "\n",
    "<br><br>\n",
    "Thus, in brief,SVM is a game winner when compared to Neural Network. The best model for our project(climate dataset) would be SVM due to the higher number of true negative, lower number of false positive,higher recall and F1-Score for class 0,higher precision for class 1,and higher Macro Average and Weighted Average of Recall and F1-Score."
   ]
  },
  {
   "cell_type": "markdown",
   "metadata": {},
   "source": [
    "##### Reference\n",
    "\n",
    "Johannes S. Fischer. (2021, August 6). Correlation-based Feature Selection in Python from Scratch – Johannes S. Fischer. Johfischer. https://johfischer.com/2021/08/06/correlation-based-feature-selection-in-python-from-scratch/Myrianthous, \n",
    "\n",
    "G. (2021, April 17). How to Split a Dataset Into Training and Testing Sets with Python. Medium. https://towardsdatascience.com/how-to-split-a-dataset-into-training-and-testing-sets-b146b1649830#:~:text=The%20simplest%20way%20to%20splitscikit-learn \n",
    "\n",
    "developers. (n.d.-a). 1.4. Support Vector Machines. Scikit-Learn. https://scikit-learn.org/stable/modules/svm.html#:~:text=Support%20vector%20machines%20(SVMs)%20arescikit-learn \n",
    "\n",
    "References A, A. (2019, January 13). First neural network for beginners explained (with code). Medium; Towards Data Science. https://towardsdatascience.com/first-neural-network-for-beginners-explained-with-code-4cfd37e06eafPython, \n",
    "\n",
    "R. (n.d.). Python AI: How to Build a Neural Network & Make Predictions – Real Python. Realpython.com. https://realpython.com/python-ai-neural-network/\n",
    "\n",
    "developers. (n.d.-c). sklearn.feature_selection.SequentialFeatureSelector. Scikit-Learn. https://scikit-learn.org/stable/modules/generated/sklearn.feature_selection.SequentialFeatureSelector.htmlVerma\n",
    "\n",
    "J. (2022, August 4). 2 Easy Ways to Normalize data in Python | DigitalOcean. Www.digitalocean.com. https://www.digitalocean.com/community/tutorials/normalize-data-in-python\n",
    "\n",
    "References scikit-learn. (2019). sklearn.model_selection.GridSearchCV — scikit-learn 0.22 documentation. Scikit-Learn.org. https://scikit-learn.org/stable/modules/generated/sklearn.model_selection.GridSearchCV.html"
   ]
  }
 ],
 "metadata": {
  "kernelspec": {
   "display_name": "Python 3 (ipykernel)",
   "language": "python",
   "name": "python3"
  },
  "language_info": {
   "codemirror_mode": {
    "name": "ipython",
    "version": 3
   },
   "file_extension": ".py",
   "mimetype": "text/x-python",
   "name": "python",
   "nbconvert_exporter": "python",
   "pygments_lexer": "ipython3",
   "version": "3.9.7"
  }
 },
 "nbformat": 4,
 "nbformat_minor": 4
}
